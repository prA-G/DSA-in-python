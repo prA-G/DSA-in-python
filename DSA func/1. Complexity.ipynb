{
 "cells": [
  {
   "cell_type": "markdown",
   "id": "3183de47",
   "metadata": {},
   "source": [
    "# Time complexity\n",
    "\n",
    "Time complexity in computer science describes how the execution time of an algorithm grows as the input size increases. It essentially quantifies the number of operations an algorithm performs as a function of the input data size."
   ]
  },
  {
   "cell_type": "markdown",
   "id": "3900beef",
   "metadata": {},
   "source": [
    "*Time complexity measures how the running time of an algorithm changes with the size of the input. It tells us how efficient an algorithm is.*\n"
   ]
  },
  {
   "cell_type": "markdown",
   "id": "bb3ddd73",
   "metadata": {},
   "source": [
    "`for i in range(n)`\n",
    "\n",
    "n times iteration\n",
    "\n",
    "if n = 5 take 10 sec\n",
    "\n",
    "then n = 500 take 100 sec"
   ]
  },
  {
   "cell_type": "markdown",
   "id": "1654878a",
   "metadata": {},
   "source": [
    "### Why important:**  \n",
    "- Helps compare different algorithms  \n",
    "- Helps predict performance on large inputs  \n"
   ]
  },
  {
   "cell_type": "markdown",
   "id": "5497f1d3",
   "metadata": {},
   "source": [
    "## Common Time Complexities:\n",
    "\n",
    "| Complexity | Example | Notes |\n",
    "|------------|--------|-------|\n",
    "| O(1) | Accessing an element in an array | Constant time, does not depend on input size |\n",
    "| O(log n) | Binary search | Very fast, reduces problem size by half each step |\n",
    "| O(n) | Linear search, traversing a list | Time grows linearly with input |\n",
    "| O(n log n) | Merge sort, Quick sort | Efficient for sorting |\n",
    "| O(n²) | Bubble sort, Selection sort | Nested loops, slower for large inputs |\n",
    "| O(2ⁿ) | Recursive Fibonacci | Exponential growth, very slow for large inputs |\n",
    "| O(n!) | Travelling Salesman Problem (brute force) | Extremely slow |"
   ]
  },
  {
   "cell_type": "markdown",
   "id": "210b2db2",
   "metadata": {},
   "source": [
    "### Key Points:\n",
    "\n",
    "- Lower time complexity = faster algorithm.\n",
    "- Best case, worst case, and average case can differ.\n",
    "- Aim for the smallest growth rate with increasing input size."
   ]
  },
  {
   "cell_type": "markdown",
   "id": "012e86f5",
   "metadata": {},
   "source": [
    "# Asymptotic Notations"
   ]
  },
  {
   "cell_type": "markdown",
   "id": "f382d762",
   "metadata": {},
   "source": [
    "*Asymptotic notation is used to describe the **growth of an algorithm** as input size increases. It helps compare algorithms without worrying about exact execution time.*"
   ]
  },
  {
   "cell_type": "markdown",
   "id": "6f6cdbc5",
   "metadata": {},
   "source": [
    "## Types of Asymptotic Notations:\n"
   ]
  },
  {
   "cell_type": "markdown",
   "id": "64699284",
   "metadata": {},
   "source": [
    "\n",
    "### 1. **Big O (O) Notation**\n",
    "- Represents **upper bound** of an algorithm’s running time.\n",
    "- Shows the **worst-case scenario**.\n",
    "- Example: Linear search  O(n)"
   ]
  },
  {
   "cell_type": "code",
   "execution_count": 1,
   "id": "bcd4278b",
   "metadata": {},
   "outputs": [
    {
     "name": "stdout",
     "output_type": "stream",
     "text": [
      "Operations: 5\n"
     ]
    }
   ],
   "source": [
    "# Linear Search Example - Worst Case O(n)\n",
    "arr = [1, 2, 3, 4, 5]\n",
    "target = 6\n",
    "count = 0\n",
    "\n",
    "for i in arr:\n",
    "    count += 1\n",
    "    if i == target:\n",
    "        break\n",
    "\n",
    "print(\"Operations:\", count)\n",
    "# In worst case, loop runs n times → O(n)"
   ]
  },
  {
   "cell_type": "markdown",
   "id": "9cd9efcc",
   "metadata": {},
   "source": [
    "### 2. Omega (Ω) Notation\n",
    "\n",
    "- Represents lower bound of an algorithm’s running time.\n",
    "- Shows the best-case scenario.\n",
    "- Example: Linear search  Ω(1) if target is first element"
   ]
  },
  {
   "cell_type": "code",
   "execution_count": 14,
   "id": "9d3805ef",
   "metadata": {},
   "outputs": [
    {
     "name": "stdout",
     "output_type": "stream",
     "text": [
      "Operations: 1\n"
     ]
    }
   ],
   "source": [
    "# Linear Search Example - Best Case Ω(1)\n",
    "arr = [1, 2, 3, 4, 5]\n",
    "target = 1\n",
    "count = 0\n",
    "\n",
    "for i in arr:\n",
    "    count += 1\n",
    "    if i == target:\n",
    "        break\n",
    "\n",
    "print(\"Operations:\", count)\n",
    "# Best case: found in first iteration Ω(1)\n"
   ]
  },
  {
   "cell_type": "markdown",
   "id": "50b3da5f",
   "metadata": {},
   "source": [
    "### 3. Theta (Θ) Notation\n",
    "\n",
    "- Represents tight bound (both upper and lower bound).\n",
    "- Shows average-case scenario when the algorithm consistently takes the same time.\n",
    "- Example: Linear search → Θ(n) if target is random"
   ]
  },
  {
   "cell_type": "code",
   "execution_count": 13,
   "id": "cc8469b6",
   "metadata": {},
   "outputs": [
    {
     "name": "stdout",
     "output_type": "stream",
     "text": [
      "Operations: 3\n"
     ]
    }
   ],
   "source": [
    "# Linear Search Example - Average Case Θ(n)\n",
    "arr = [1, 2, 3, 4, 5]\n",
    "target = 3\n",
    "count = 0\n",
    "\n",
    "for i in arr:\n",
    "    count += 1\n",
    "    if i == target:\n",
    "        break\n",
    "\n",
    "print(\"Operations:\", count)\n",
    "# Average case: about n/2 iterations  Θ(n)\n"
   ]
  },
  {
   "cell_type": "markdown",
   "id": "398f415c",
   "metadata": {},
   "source": [
    "### 4. Little o (o) Notation\n",
    "\n",
    "- Represents an upper bound that is not tight.\n",
    "- Algorithm grows slower than a certain function, but never reaches it."
   ]
  },
  {
   "cell_type": "code",
   "execution_count": 12,
   "id": "efd9bb35",
   "metadata": {},
   "outputs": [
    {
     "name": "stdout",
     "output_type": "stream",
     "text": [
      "Operations: 10\n"
     ]
    }
   ],
   "source": [
    "# Example: An algorithm with time n grows slower than n^2\n",
    "def example_algo(arr):\n",
    "    count = 0\n",
    "    for i in arr:\n",
    "        count += 1\n",
    "    return count\n",
    "\n",
    "arr = list(range(10))\n",
    "print(\"Operations:\", example_algo(arr))\n",
    "# grows slower than n^2 o(n^2)\n"
   ]
  },
  {
   "cell_type": "markdown",
   "id": "41f06558",
   "metadata": {},
   "source": [
    "### 5. Little ω (ω) Notation\n",
    "\n",
    "- Represents a lower bound that is not tight.\n",
    "- Algorithm grows faster than a certain function, but not exactly equal."
   ]
  },
  {
   "cell_type": "code",
   "execution_count": 11,
   "id": "a946163d",
   "metadata": {},
   "outputs": [
    {
     "name": "stdout",
     "output_type": "stream",
     "text": [
      "Operations: 100\n"
     ]
    }
   ],
   "source": [
    "# Example: An algorithm with time n^2 grows faster than n\n",
    "def example_algo(arr):\n",
    "    count = 0\n",
    "    for i in arr:\n",
    "        for j in arr:\n",
    "            count += 1\n",
    "    return count\n",
    "\n",
    "arr = list(range(10))\n",
    "print(\"Operations:\", example_algo(arr))\n",
    "# grows faster than n ω(n)\n"
   ]
  },
  {
   "cell_type": "code",
   "execution_count": 10,
   "id": "125feef6",
   "metadata": {},
   "outputs": [
    {
     "name": "stdout",
     "output_type": "stream",
     "text": [
      " Big O (O) - Worst Case \n",
      "Operations (O): 5\n",
      "\n",
      " Omega (Ω) - Best Case \n",
      "Operations (Ω): 1\n",
      "\n",
      " Theta (Θ) - Average Case \n",
      "Operations (Θ): 3\n",
      "\n",
      " Little o (o) - Non-Tight Upper Bound\n",
      "Operations (o): 5\n",
      "\n",
      " Little ω (ω) - Non-Tight Lower Bound\n",
      "Operations (ω): 25\n"
     ]
    }
   ],
   "source": [
    "# Asymptotic Notations Examples\n",
    "\n",
    "arr = [1, 2, 3, 4, 5]\n",
    "\n",
    "print(\" Big O (O) - Worst Case \")\n",
    "# Worst case: Linear search target not found O(n)\n",
    "count = 0\n",
    "target = 6\n",
    "for i in arr:\n",
    "    count += 1\n",
    "    if i == target:\n",
    "        break\n",
    "print(\"Operations (O):\", count)\n",
    "\n",
    "print(\"\\n Omega (Ω) - Best Case \")\n",
    "# Best case: Linear search target is first Ω(1)\n",
    "count = 0\n",
    "target = 1\n",
    "for i in arr:\n",
    "    count += 1\n",
    "    if i == target:\n",
    "        break\n",
    "print(\"Operations (Ω):\", count)\n",
    "\n",
    "print(\"\\n Theta (Θ) - Average Case \")\n",
    "# Average case: Linear search target in middle Θ(n)\n",
    "count = 0\n",
    "target = 3\n",
    "for i in arr:\n",
    "    count += 1\n",
    "    if i == target:\n",
    "        break\n",
    "print(\"Operations (Θ):\", count)\n",
    "\n",
    "print(\"\\n Little o (o) - Non-Tight Upper Bound\")\n",
    "# Example: n operations grows slower than n^2\n",
    "def algo_o(arr):\n",
    "    count = 0\n",
    "    for i in arr:\n",
    "        count += 1\n",
    "    return count\n",
    "print(\"Operations (o):\", algo_o(arr))\n",
    "\n",
    "print(\"\\n Little ω (ω) - Non-Tight Lower Bound\")\n",
    "# Example: n^2 operations grows faster than n\n",
    "def algo_omega(arr):\n",
    "    count = 0\n",
    "    for i in arr:\n",
    "        for j in arr:\n",
    "            count += 1\n",
    "    return count\n",
    "print(\"Operations (ω):\", algo_omega(arr))\n"
   ]
  },
  {
   "attachments": {
    "image.png": {
     "image/png": "[encoded data removed]"
    }
   },
   "cell_type": "markdown",
   "id": "5db599ac",
   "metadata": {},
   "source": [
    "![image.png](attachment:image.png)"
   ]
  },
  {
   "cell_type": "markdown",
   "id": "c118e8f7",
   "metadata": {},
   "source": [
    "# Linear time complexity\n",
    "*Linear time complexity means the **running time of an algorithm increases linearly** with the input size.  \n",
    "If the input size doubles, the running time roughly doubles too.*\n",
    "\n",
    "**Notation:** O(n)\n",
    "\n",
    "**Example Scenarios:**  \n",
    "- Traversing an array or list  \n",
    "- Finding the maximum/minimum element  \n",
    "- Linear search for an element  "
   ]
  },
  {
   "cell_type": "markdown",
   "id": "eb1770f1",
   "metadata": {},
   "source": [
    "### Key Points:\n",
    "\n",
    "- Time grows proportionally with input size.\n",
    "- Simple loops over n elements usually have O(n) time.\n",
    "- Linear complexity is generally acceptable for moderately large inputs."
   ]
  },
  {
   "cell_type": "markdown",
   "id": "a0ea4be0",
   "metadata": {},
   "source": [
    "### Example 1: Traversing an Array"
   ]
  },
  {
   "cell_type": "code",
   "execution_count": 7,
   "id": "959f7341",
   "metadata": {},
   "outputs": [
    {
     "name": "stdout",
     "output_type": "stream",
     "text": [
      "1\n",
      "2\n",
      "3\n",
      "4\n",
      "5\n"
     ]
    }
   ],
   "source": [
    "arr = [1, 2, 3, 4, 5]\n",
    "for i in arr:\n",
    "    print(i)  # Loops through all elements  O(n)"
   ]
  },
  {
   "cell_type": "markdown",
   "id": "71376ee0",
   "metadata": {},
   "source": [
    "### Example 2: Finding the maximum"
   ]
  },
  {
   "cell_type": "code",
   "execution_count": 8,
   "id": "2c34751a",
   "metadata": {},
   "outputs": [
    {
     "name": "stdout",
     "output_type": "stream",
     "text": [
      "Maximum value: 20\n"
     ]
    }
   ],
   "source": [
    "arr = [10, 5, 20, 8]\n",
    "max_val = arr[0]\n",
    "for num in arr:\n",
    "    if num > max_val:\n",
    "        max_val = num\n",
    "print(\"Maximum value:\", max_val)\n",
    "# Loop goes through all n elements  O(n)\n"
   ]
  },
  {
   "cell_type": "markdown",
   "id": "fd286148",
   "metadata": {},
   "source": [
    "### Example 3: Linear Search"
   ]
  },
  {
   "cell_type": "code",
   "execution_count": 9,
   "id": "3cd32bf5",
   "metadata": {},
   "outputs": [
    {
     "name": "stdout",
     "output_type": "stream",
     "text": [
      "Found!\n"
     ]
    }
   ],
   "source": [
    "arr = [1, 3, 5, 7, 9]\n",
    "target = 5\n",
    "for i in arr:\n",
    "    if i == target:\n",
    "        print(\"Found!\")\n",
    "        break\n",
    "# Worst case: target at last element or not present O(n)\n"
   ]
  },
  {
   "cell_type": "markdown",
   "id": "da51e57d",
   "metadata": {},
   "source": [
    "# Constant Time Complexity (O(1))"
   ]
  },
  {
   "cell_type": "markdown",
   "id": "26d81fba",
   "metadata": {},
   "source": [
    "*Constant time complexity means the **running time of an algorithm does NOT depend on the input size**.  \n",
    "No matter how big the input is, the time remains roughly the same.*\n",
    "\n",
    "**Notation:** O(1)\n",
    "\n",
    "**Example Scenarios:**  \n",
    "- Accessing an element in an array by index  \n",
    "- Inserting/deleting in a hash table (average case)  \n",
    "- Simple arithmetic operations  "
   ]
  },
  {
   "cell_type": "markdown",
   "id": "359a327c",
   "metadata": {},
   "source": [
    "### Key Points:\n",
    "\n",
    "- Execution time is independent of input size.\n",
    "- Most basic operations in programming are O(1).\n",
    "- Extremely efficient and desirable in algorithms."
   ]
  },
  {
   "cell_type": "markdown",
   "id": "c76ffef9",
   "metadata": {},
   "source": [
    "### Example 1: Accessing array element"
   ]
  },
  {
   "cell_type": "code",
   "execution_count": 15,
   "id": "97acb921",
   "metadata": {},
   "outputs": [
    {
     "name": "stdout",
     "output_type": "stream",
     "text": [
      "30\n"
     ]
    }
   ],
   "source": [
    "arr = [10, 20, 30, 40, 50]\n",
    "print(arr[2])  # Accessing third element:  O(1)"
   ]
  },
  {
   "cell_type": "markdown",
   "id": "a8314fd7",
   "metadata": {},
   "source": [
    "### Example 2: Inserting a dictionary"
   ]
  },
  {
   "cell_type": "code",
   "execution_count": 16,
   "id": "86d71195",
   "metadata": {},
   "outputs": [],
   "source": [
    "my_dict = {}\n",
    "my_dict['a'] = 100  # Adding an element : O(1) on average\n"
   ]
  },
  {
   "cell_type": "markdown",
   "id": "d58b2e18",
   "metadata": {},
   "source": [
    "### Example 3 : Simple Arithmetic"
   ]
  },
  {
   "cell_type": "code",
   "execution_count": 17,
   "id": "5c3465fe",
   "metadata": {},
   "outputs": [
    {
     "name": "stdout",
     "output_type": "stream",
     "text": [
      "15\n"
     ]
    }
   ],
   "source": [
    "x = 10\n",
    "y = 5\n",
    "z = x + y  # Simple addition : O(1)\n",
    "print(z)\n"
   ]
  },
  {
   "cell_type": "markdown",
   "id": "0c9182a5",
   "metadata": {},
   "source": [
    "# Quadratic Time Complexity (O(n²))"
   ]
  },
  {
   "cell_type": "markdown",
   "id": "1b41927e",
   "metadata": {},
   "source": [
    "*Quadratic time complexity means the **running time of an algorithm is proportional to the square of the input size**.  \n",
    "If the input size doubles, the running time roughly **quadruples**.*\n",
    "\n",
    "**Notation:** O(n²)\n",
    "\n",
    "**Example Scenarios:**  \n",
    "- Nested loops over the input  \n",
    "- Bubble Sort, Selection Sort  \n",
    "- Checking all pairs in an array  "
   ]
  },
  {
   "cell_type": "markdown",
   "id": "ccd2969a",
   "metadata": {},
   "source": [
    "### Example 1 : Nested Loop"
   ]
  },
  {
   "cell_type": "code",
   "execution_count": 18,
   "id": "080b1fc3",
   "metadata": {},
   "outputs": [
    {
     "name": "stdout",
     "output_type": "stream",
     "text": [
      "1 1\n",
      "1 2\n",
      "1 3\n",
      "1 4\n",
      "2 1\n",
      "2 2\n",
      "2 3\n",
      "2 4\n",
      "3 1\n",
      "3 2\n",
      "3 3\n",
      "3 4\n",
      "4 1\n",
      "4 2\n",
      "4 3\n",
      "4 4\n"
     ]
    }
   ],
   "source": [
    "arr = [1, 2, 3, 4]\n",
    "for i in arr:\n",
    "    for j in arr:\n",
    "        print(i, j)  # Two nested loops : O(n²)"
   ]
  },
  {
   "cell_type": "markdown",
   "id": "7abe6477",
   "metadata": {},
   "source": [
    "### Example 2 : Bubble sort"
   ]
  },
  {
   "cell_type": "code",
   "execution_count": 19,
   "id": "61e71998",
   "metadata": {},
   "outputs": [
    {
     "name": "stdout",
     "output_type": "stream",
     "text": [
      "Sorted Array: [1, 3, 4, 5]\n"
     ]
    }
   ],
   "source": [
    "arr = [5, 3, 4, 1]\n",
    "n = len(arr)\n",
    "for i in range(n):\n",
    "    for j in range(0, n-i-1):\n",
    "        if arr[j] > arr[j+1]:\n",
    "            arr[j], arr[j+1] = arr[j+1], arr[j]\n",
    "print(\"Sorted Array:\", arr)\n",
    "# Two nested loops  : O(n²)\n"
   ]
  },
  {
   "cell_type": "markdown",
   "id": "401c33c7",
   "metadata": {},
   "source": [
    "### Example 3: Checking all pairs"
   ]
  },
  {
   "cell_type": "code",
   "execution_count": 20,
   "id": "5d5e1243",
   "metadata": {},
   "outputs": [
    {
     "name": "stdout",
     "output_type": "stream",
     "text": [
      "2\n",
      "3\n",
      "4\n",
      "3\n",
      "4\n",
      "5\n",
      "4\n",
      "5\n",
      "6\n"
     ]
    }
   ],
   "source": [
    "arr = [1, 2, 3]\n",
    "for i in arr:\n",
    "    for j in arr:\n",
    "        print(i + j)  # All pairs sum : O(n²)\n"
   ]
  },
  {
   "cell_type": "markdown",
   "id": "fe95e7f2",
   "metadata": {},
   "source": [
    "# Logarithmic Time Complexity (O(log n))"
   ]
  },
  {
   "cell_type": "markdown",
   "id": "ab89bd3a",
   "metadata": {},
   "source": [
    "*Logarithmic time complexity means the **running time increases slowly** as the input size increases.  \n",
    "Each step reduces the problem size by a fraction (usually half).*\n",
    "\n",
    "**Notation:** O(log n)\n",
    "\n",
    "**Example Scenarios:**  \n",
    "- Binary Search  \n",
    "- Finding an element in a balanced Binary Search Tree (BST)  \n",
    "- Some divide-and-conquer algorithms  "
   ]
  },
  {
   "cell_type": "markdown",
   "id": "6a3eef25",
   "metadata": {},
   "source": [
    "### Key Points:\n",
    "\n",
    "- Time grows very slowly even for large input sizes.\n",
    "- Typical in divide-and-conquer algorithms.\n",
    "- Much more efficient than linear time for large datasets."
   ]
  },
  {
   "cell_type": "markdown",
   "id": "25a225eb",
   "metadata": {},
   "source": [
    "### Example 1: Binary Search"
   ]
  },
  {
   "cell_type": "code",
   "execution_count": 21,
   "id": "11379892",
   "metadata": {},
   "outputs": [
    {
     "name": "stdout",
     "output_type": "stream",
     "text": [
      "Index: 3\n"
     ]
    }
   ],
   "source": [
    "def binary_search(arr, target):\n",
    "    left, right = 0, len(arr) - 1\n",
    "    while left <= right:\n",
    "        mid = (left + right) // 2\n",
    "        if arr[mid] == target:\n",
    "            return mid\n",
    "        elif arr[mid] < target:\n",
    "            left = mid + 1\n",
    "        else:\n",
    "            right = mid - 1\n",
    "    return -1\n",
    "\n",
    "arr = [1, 3, 5, 7, 9]\n",
    "target = 7\n",
    "print(\"Index:\", binary_search(arr, target))\n",
    "# Each step reduces search space by half : O(log n)"
   ]
  },
  {
   "cell_type": "markdown",
   "id": "a2d0b77a",
   "metadata": {},
   "source": [
    "## Linearithmic Time Complexity (O(n log n))"
   ]
  },
  {
   "cell_type": "markdown",
   "id": "206019c4",
   "metadata": {},
   "source": [
    "Linearithmic time complexity means the **algorithm runs in time proportional to n × log(n)**.  \n",
    "It is slower than linear time (O(n)) but faster than quadratic time (O(n²)).\n",
    "\n",
    "**Notation:** O(n log n)\n",
    "\n",
    "**Example Scenarios:**  \n",
    "- Merge Sort  \n",
    "- Quick Sort (average case)  \n",
    "- Heap Sort  "
   ]
  },
  {
   "cell_type": "markdown",
   "id": "5ed1d124",
   "metadata": {},
   "source": [
    "### Key Points:\n",
    "\n",
    "- Linearithmic complexity is common in efficient sorting algorithms.\n",
    "- For large n, it’s much faster than quadratic O(n²) algorithms.\n",
    "- Combines linear processing (O(n)) with logarithmic division (O(log n))."
   ]
  },
  {
   "cell_type": "markdown",
   "id": "050a9431",
   "metadata": {},
   "source": [
    "### Example 1: Merge sort"
   ]
  },
  {
   "cell_type": "code",
   "execution_count": 22,
   "id": "58d9ab1f",
   "metadata": {},
   "outputs": [
    {
     "name": "stdout",
     "output_type": "stream",
     "text": [
      "Sorted Array: [2, 3, 4, 5, 8]\n"
     ]
    }
   ],
   "source": [
    "def merge_sort(arr):\n",
    "    if len(arr) <= 1:\n",
    "        return arr\n",
    "    mid = len(arr) // 2\n",
    "    left = merge_sort(arr[:mid])\n",
    "    right = merge_sort(arr[mid:])\n",
    "    return merge(left, right)\n",
    "\n",
    "def merge(left, right):\n",
    "    result = []\n",
    "    i = j = 0\n",
    "    while i < len(left) and j < len(right):\n",
    "        if left[i] < right[j]:\n",
    "            result.append(left[i])\n",
    "            i += 1\n",
    "        else:\n",
    "            result.append(right[j])\n",
    "            j += 1\n",
    "    result += left[i:]\n",
    "    result += right[j:]\n",
    "    return result\n",
    "\n",
    "arr = [5, 3, 8, 4, 2]\n",
    "sorted_arr = merge_sort(arr)\n",
    "print(\"Sorted Array:\", sorted_arr)\n",
    "# Merge sort : O(n log n)"
   ]
  },
  {
   "cell_type": "markdown",
   "id": "ef8dcd3d",
   "metadata": {},
   "source": [
    "### Example 2: Quick Sort"
   ]
  },
  {
   "cell_type": "code",
   "execution_count": 23,
   "id": "2ce93b04",
   "metadata": {},
   "outputs": [
    {
     "name": "stdout",
     "output_type": "stream",
     "text": [
      "Sorted Array: [2, 3, 4, 5, 8]\n"
     ]
    }
   ],
   "source": [
    "def quick_sort(arr):\n",
    "    if len(arr) <= 1:\n",
    "        return arr\n",
    "    pivot = arr[0]\n",
    "    left = [x for x in arr[1:] if x <= pivot]\n",
    "    right = [x for x in arr[1:] if x > pivot]\n",
    "    return quick_sort(left) + [pivot] + quick_sort(right)\n",
    "\n",
    "arr = [5, 3, 8, 4, 2]\n",
    "print(\"Sorted Array:\", quick_sort(arr))\n",
    "# Quick sort average : O(n log n)\n"
   ]
  },
  {
   "cell_type": "markdown",
   "id": "16b79552",
   "metadata": {},
   "source": [
    "## Cubic Time Complexity (O(n³))"
   ]
  },
  {
   "cell_type": "markdown",
   "id": "cfc26745",
   "metadata": {},
   "source": [
    "Cubic time complexity means the **running time of an algorithm is proportional to the cube of the input size**.  \n",
    "If the input size doubles, the running time increases roughly **8 times** (2³).\n",
    "\n",
    "**Notation:** O(n³)\n",
    "\n",
    "**Example Scenarios:**  \n",
    "- Triple nested loops  \n",
    "- Certain matrix operations (like multiplying two n×n matrices using naive method)  \n",
    "- Some dynamic programming problems  \n"
   ]
  },
  {
   "cell_type": "markdown",
   "id": "47d78f27",
   "metadata": {},
   "source": [
    "### Key Points:\n",
    "\n",
    "- Time grows very quickly with input size.\n",
    "- Avoid cubic algorithms for large datasets if possible.\n",
    "- Often occurs in algorithms with three nested loops or operations on 3D structures."
   ]
  },
  {
   "cell_type": "markdown",
   "id": "eeebf1cf",
   "metadata": {},
   "source": [
    "### Example 1 : Triple nested loop"
   ]
  },
  {
   "cell_type": "code",
   "execution_count": 24,
   "id": "70507d96",
   "metadata": {},
   "outputs": [
    {
     "name": "stdout",
     "output_type": "stream",
     "text": [
      "1 1 1\n",
      "1 1 2\n",
      "1 1 3\n",
      "1 2 1\n",
      "1 2 2\n",
      "1 2 3\n",
      "1 3 1\n",
      "1 3 2\n",
      "1 3 3\n",
      "2 1 1\n",
      "2 1 2\n",
      "2 1 3\n",
      "2 2 1\n",
      "2 2 2\n",
      "2 2 3\n",
      "2 3 1\n",
      "2 3 2\n",
      "2 3 3\n",
      "3 1 1\n",
      "3 1 2\n",
      "3 1 3\n",
      "3 2 1\n",
      "3 2 2\n",
      "3 2 3\n",
      "3 3 1\n",
      "3 3 2\n",
      "3 3 3\n"
     ]
    }
   ],
   "source": [
    "arr = [1, 2, 3]\n",
    "for i in arr:\n",
    "    for j in arr:\n",
    "        for k in arr:\n",
    "            print(i, j, k)  # Three nested loops : O(n³)"
   ]
  },
  {
   "cell_type": "markdown",
   "id": "3191a87d",
   "metadata": {},
   "source": [
    "### Example 2 : Naive Matrix Multiplications"
   ]
  },
  {
   "cell_type": "code",
   "execution_count": 25,
   "id": "60847ede",
   "metadata": {},
   "outputs": [
    {
     "name": "stdout",
     "output_type": "stream",
     "text": [
      "Result Matrix: [[19, 22], [43, 50]]\n"
     ]
    }
   ],
   "source": [
    "A = [[1, 2], [3, 4]]\n",
    "B = [[5, 6], [7, 8]]\n",
    "n = len(A)\n",
    "C = [[0]*n for _ in range(n)]\n",
    "\n",
    "for i in range(n):\n",
    "    for j in range(n):\n",
    "        for k in range(n):\n",
    "            C[i][j] += A[i][k] * B[k][j]\n",
    "\n",
    "print(\"Result Matrix:\", C)\n",
    "# Triple loop : O(n³)\n"
   ]
  },
  {
   "cell_type": "markdown",
   "id": "ced65107",
   "metadata": {},
   "source": [
    "# Comparison of Time complexities:\n",
    "\n",
    "`O(1) < O(log n) < O(n) < O(n log n) < O(n^2) < O(2^n) < O(n!)`"
   ]
  },
  {
   "cell_type": "markdown",
   "id": "7a87067f",
   "metadata": {},
   "source": [
    "\n",
    "\n",
    "| Time Complexity | Notation | Example Algorithm / Operation       | Input Size Effect            | Notes                                  |\n",
    "|-----------------|----------|-----------------------------------|-----------------------------|----------------------------------------|\n",
    "| Constant        | O(1)     | Accessing array element, simple arithmetic | No effect, same time       | Extremely fast and efficient           |\n",
    "| Logarithmic     | O(log n) | Binary Search, Balanced BST search | Very slow growth           | Each step halves the problem size      |\n",
    "| Linear          | O(n)     | Linear Search, Traversing array   | Time grows linearly        | Simple loops over n elements           |\n",
    "| Linearithmic    | O(n log n) | Merge Sort, Quick Sort (avg)    | Moderate growth            | Combines linear work with divide-and-conquer |\n",
    "| Quadratic       | O(n²)    | Bubble Sort, Selection Sort       | Time grows rapidly         | Nested loops over n elements           |\n",
    "| Cubic           | O(n³)    | Naive Matrix Multiplication       | Very fast growth           | Triple nested loops                     |\n",
    "| Exponential     | O(2^n)   | Recursive Fibonacci, Some DP problems | Explodes quickly          | Not feasible for large inputs          |\n",
    "| Factorial       | O(n!)    | Brute-force TSP                   | Explodes extremely fast    | Practically unusable for large n       |\n"
   ]
  },
  {
   "cell_type": "markdown",
   "id": "aa330a54",
   "metadata": {},
   "source": [
    "# *Space Complexity*\n",
    "\n",
    "It refers to the amount of memory an algorithm uses as a function of the input size. It's a measure of how much memory an algorithm requires to execute and solve problem."
   ]
  },
  {
   "cell_type": "markdown",
   "id": "0b4dee40",
   "metadata": {},
   "source": [
    " \n",
    "Space complexity measures the **amount of memory an algorithm uses** relative to the input size.  \n",
    "It includes:\n",
    "- **Input data memory**  \n",
    "- **Auxiliary memory** used by the algorithm (variables, arrays, recursion stack)\n",
    "\n",
    "**Notation:** Usually denoted as O(f(n)), similar to time complexity.\n",
    "\n",
    "\n",
    "\n",
    "### Types of Space Usage\n",
    "\n",
    "1. **Fixed Part** – memory independent of input size  \n",
    "   - Examples: program code, simple variables  \n",
    "   - Usually constant → O(1)\n",
    "\n",
    "2. **Variable Part** – memory dependent on input size  \n",
    "   - Examples: arrays, recursion stack, dynamic memory  \n",
    "   - Usually depends on n → O(n), O(n²), etc.\n",
    "\n",
    "\n",
    "\n"
   ]
  },
  {
   "cell_type": "code",
   "execution_count": 28,
   "id": "4e025c28",
   "metadata": {},
   "outputs": [
    {
     "data": {
      "text/plain": [
       "9"
      ]
     },
     "execution_count": 28,
     "metadata": {},
     "output_type": "execute_result"
    }
   ],
   "source": [
    "### Example 1: Constant Space O(1)\n",
    "\n",
    "def add(a, b):\n",
    "    c = a + b   # Only one extra variable\n",
    "    return c\n",
    "add(5, 4)"
   ]
  },
  {
   "cell_type": "code",
   "execution_count": 33,
   "id": "30793c4b",
   "metadata": {},
   "outputs": [
    {
     "data": {
      "text/plain": [
       "[0, 1, 2, 3, 4]"
      ]
     },
     "execution_count": 33,
     "metadata": {},
     "output_type": "execute_result"
    }
   ],
   "source": [
    "# Example 2:Linear StopAsyncIteration\n",
    "def create_list(n):\n",
    "    arr = [i for i in range(n)]  # Uses n elements in memory\n",
    "    return arr\n",
    "create_list(5)"
   ]
  },
  {
   "cell_type": "code",
   "execution_count": 34,
   "id": "ff5c0317",
   "metadata": {},
   "outputs": [
    {
     "data": {
      "text/plain": [
       "[[0, 0, 0, 0], [0, 0, 0, 0], [0, 0, 0, 0], [0, 0, 0, 0]]"
      ]
     },
     "execution_count": 34,
     "metadata": {},
     "output_type": "execute_result"
    }
   ],
   "source": [
    "# Example 3: Quadratic Space\n",
    "def create_matrix(n):\n",
    "    matrix = [[0]*n for _ in range(n)]  # n x n elements\n",
    "    return matrix\n",
    "create_matrix(4)"
   ]
  },
  {
   "cell_type": "code",
   "execution_count": 35,
   "id": "93be42c8",
   "metadata": {},
   "outputs": [
    {
     "data": {
      "text/plain": [
       "120"
      ]
     },
     "execution_count": 35,
     "metadata": {},
     "output_type": "execute_result"
    }
   ],
   "source": [
    "# Example 4: Recursive Function (Stack Space)\n",
    "\n",
    "def factorial(n):\n",
    "    if n == 0:\n",
    "        return 1\n",
    "    return n * factorial(n-1)  # Each call uses stack : O(n) space\n",
    "factorial(5)"
   ]
  },
  {
   "cell_type": "markdown",
   "id": "44c343c3",
   "metadata": {},
   "source": [
    "# *Recursion*"
   ]
  },
  {
   "cell_type": "markdown",
   "id": "09e0e0d9",
   "metadata": {},
   "source": [
    "*The **process in which a function calls itself** directly or indirectly is called recursion and the corresponding function is called a recursive functions.*"
   ]
  },
  {
   "cell_type": "markdown",
   "id": "d95ac1de",
   "metadata": {},
   "source": [
    " \n",
    "Recursion is a programming technique where a function **calls itself** to solve smaller instances of a problem until a base condition is met.\n",
    "\n",
    "**Key Parts of Recursion:**\n",
    "1. **Base Case:** Stops the recursion (prevents infinite calls)\n",
    "2. **Recursive Case:** The function calls itself with a smaller or simpler input\n",
    "\n",
    "\n",
    "\n",
    "## Advantages of Recursion\n",
    "- Simplifies code for problems with **repetitive subproblems**\n",
    "- Useful in **divide-and-conquer algorithms**\n",
    "- Can make code cleaner than iterative solutions for some problems\n",
    "\n",
    "## Disadvantages of Recursion\n",
    "- Uses extra **stack memory** → can cause stack overflow\n",
    "- Sometimes **slower** than iterative solutions\n"
   ]
  },
  {
   "cell_type": "markdown",
   "id": "c2ea2528",
   "metadata": {},
   "source": [
    "## Key Points:\n",
    "\n",
    "- Every recursive function must have a base case.\n",
    "- Recursion uses stack memory, so deep recursion can cause errors.\n",
    "- Can often be converted to iterative solution to save space.\n",
    "- Commonly used in DFS, tree traversal, divide-and-conquer."
   ]
  },
  {
   "cell_type": "code",
   "execution_count": 29,
   "id": "249a3840",
   "metadata": {},
   "outputs": [
    {
     "name": "stdout",
     "output_type": "stream",
     "text": [
      "5! = 120\n"
     ]
    }
   ],
   "source": [
    "# Example 1: Factorial\n",
    "def factorial(n):\n",
    "    if n == 0:\n",
    "        return 1  # Base case\n",
    "    return n * factorial(n-1)  # Recursive case\n",
    "\n",
    "print(\"5! =\", factorial(5))\n"
   ]
  },
  {
   "cell_type": "code",
   "execution_count": 30,
   "id": "07fbd51d",
   "metadata": {},
   "outputs": [
    {
     "name": "stdout",
     "output_type": "stream",
     "text": [
      "Fibonacci(6) = 8\n"
     ]
    }
   ],
   "source": [
    "# Example 2: Fibonacci Recursive\n",
    "\n",
    "def fib(n):\n",
    "    if n <= 1:\n",
    "        return n  # Base case\n",
    "    return fib(n-1) + fib(n-2)  # Recursive case\n",
    "\n",
    "print(\"Fibonacci(6) =\", fib(6))\n"
   ]
  },
  {
   "cell_type": "code",
   "execution_count": 31,
   "id": "777bc221",
   "metadata": {},
   "outputs": [
    {
     "name": "stdout",
     "output_type": "stream",
     "text": [
      "Sum: 10\n"
     ]
    }
   ],
   "source": [
    "# Example 3: Sum of list elements\n",
    "\n",
    "def sum_list(arr):\n",
    "    if not arr:\n",
    "        return 0  # Base case\n",
    "    return arr[0] + sum_list(arr[1:])  # Recursive case\n",
    "\n",
    "print(\"Sum:\", sum_list([1, 2, 3, 4]))\n"
   ]
  },
  {
   "cell_type": "markdown",
   "id": "d1dd3a54",
   "metadata": {},
   "source": [
    "## Loop v/s Recursion"
   ]
  },
  {
   "cell_type": "markdown",
   "id": "6362c9ae",
   "metadata": {},
   "source": [
    "\n",
    "| Feature | Loop | Recursion |\n",
    "|---------|------|-----------|\n",
    "| **Definition** | Repeats code until a condition is false | Function calls itself with smaller input |\n",
    "| **Memory Usage** | Uses constant memory (O(1)) | Uses stack memory → can be O(n) |\n",
    "| **Performance** | Usually faster | Can be slower due to function call overhead |\n",
    "| **Base/Exit Condition** | Loop condition | Base case required |\n",
    "| **Code Length** | Often longer for nested operations | Can be shorter & cleaner for complex problems |\n",
    "| **Use Cases** | Simple repetition, summing arrays, traversals | DFS, divide-and-conquer, tree & graph problems |\n",
    "| **Risk** | Usually safe | Stack overflow if too deep |\n"
   ]
  },
  {
   "cell_type": "markdown",
   "id": "4405376c",
   "metadata": {},
   "source": [
    "### Key Points:\n",
    "\n",
    "- Loops are memory-efficient and fast.\n",
    "- Recursion can simplify complex problems but uses extra memory.\n",
    "- Some recursive problems can be converted to loops to save stack space.\n",
    "- Understanding stack behavior is important for recursion."
   ]
  },
  {
   "cell_type": "code",
   "execution_count": 7,
   "id": "bc4e2c24",
   "metadata": {},
   "outputs": [
    {
     "name": "stdout",
     "output_type": "stream",
     "text": [
      "1 2 3 4 5 "
     ]
    }
   ],
   "source": [
    "# Print 1 to n using while loop\n",
    "\n",
    "n = 5\n",
    "i =1\n",
    "while i<=n:  # if i >=6 , loops break\n",
    "    print(i, end=\" \")\n",
    "    i+=1"
   ]
  },
  {
   "cell_type": "code",
   "execution_count": 11,
   "id": "3d4793f2",
   "metadata": {},
   "outputs": [
    {
     "name": "stdout",
     "output_type": "stream",
     "text": [
      "1 2 3 4 5 "
     ]
    }
   ],
   "source": [
    "# Print 1 to n using recursion\n",
    "\n",
    "def printNumber(i, n):\n",
    "    #// base case >> the condition on which loop breaks\n",
    "    if i >n:\n",
    "        return\n",
    "    # // recursive case \n",
    "    print(i, end=\" \")\n",
    "    printNumber(i+1, n)  # Func calling itself\n",
    "printNumber(1,5)\n",
    "\n",
    "# Time complexity = O(n)"
   ]
  },
  {
   "cell_type": "code",
   "execution_count": 10,
   "id": "9e0b16e2",
   "metadata": {},
   "outputs": [
    {
     "name": "stdout",
     "output_type": "stream",
     "text": [
      "120\n"
     ]
    }
   ],
   "source": [
    "# Factorial of a number\n",
    "# n! = 1*2*3*....*(n-1)*n\n",
    "# # n! = n*(n-1)!\n",
    "# 5! = 5 * 4!\n",
    "# 4! = 4 * 3!\n",
    "# 3! = 3 * 2!\n",
    "# 2! = 2 * 1!\n",
    "\n",
    "def Fact(n):\n",
    "    if n==0:\n",
    "        return 1\n",
    "    return n*Fact(n-1)\n",
    "\n",
    "print(Fact(5))\n",
    "# Time complexity = O(n)"
   ]
  },
  {
   "cell_type": "code",
   "execution_count": 13,
   "id": "2df692f9",
   "metadata": {},
   "outputs": [
    {
     "name": "stdout",
     "output_type": "stream",
     "text": [
      "9  8  7  6  5  4  3  2  1  "
     ]
    }
   ],
   "source": [
    "# From range n to 1\n",
    "\n",
    "def func(n):\n",
    "    if n==0:\n",
    "        return\n",
    "    print(n,end=\"  \")\n",
    "    func(n-1)\n",
    "func(9)"
   ]
  },
  {
   "cell_type": "markdown",
   "id": "0add290c",
   "metadata": {},
   "source": [
    "## Recursive Stack"
   ]
  },
  {
   "cell_type": "code",
   "execution_count": 16,
   "id": "735ebef6",
   "metadata": {},
   "outputs": [
    {
     "name": "stdout",
     "output_type": "stream",
     "text": [
      "1  2  3  4  5  6  7  8  9  "
     ]
    }
   ],
   "source": [
    "# From range 1 to n\n",
    "\n",
    "def func(n):\n",
    "    if n==0:\n",
    "        return\n",
    "    func(n-1)\n",
    "    print(n,end=\"  \")  # recurive stack  << FIFO\n",
    "    \n",
    "func(9)"
   ]
  },
  {
   "cell_type": "markdown",
   "id": "c4398625",
   "metadata": {},
   "source": [
    "### Fibonnaci Number\n",
    "\n",
    "0   1   1   2   3   5   8   13  21  34  55  89  ......\n"
   ]
  },
  {
   "cell_type": "code",
   "execution_count": null,
   "id": "3b19f06b",
   "metadata": {},
   "outputs": [],
   "source": [
    "# To find nth fibonnaci number\n",
    "\n"
   ]
  },
  {
   "cell_type": "markdown",
   "id": "6d0e09f0",
   "metadata": {},
   "source": [
    "### *GCD of Two Numbers : Euclidean Algorithm*\n",
    "\n",
    "The Euclidean Algorithm is a method for efficiently calculating the **greatest common divisor** (GCD) of two integers.\n",
    "\n",
    "Greatest Common Divisor = Highest Common Factor\n",
    "\n",
    "- a = 15 = 1, 3, 5, 15\n",
    "- b = 50 = 1, 2, 5, 10, 25, 50\n",
    "\n",
    "- gcd(15, 50) = 5"
   ]
  },
  {
   "cell_type": "code",
   "execution_count": 18,
   "id": "6d75e220",
   "metadata": {},
   "outputs": [
    {
     "name": "stdout",
     "output_type": "stream",
     "text": [
      "5\n"
     ]
    }
   ],
   "source": [
    "def gcd(a,b):\n",
    "    if b==0:\n",
    "        return a\n",
    "    return gcd(b, a%b)\n",
    "\n",
    "print(gcd(15, 50))"
   ]
  },
  {
   "cell_type": "markdown",
   "id": "d7a49f9d",
   "metadata": {},
   "source": [
    "### Least Common Multiple:\n",
    "\n",
    "- a = 50 = 50, 100, 150, 200, 250, 300..\n",
    "- b = 150 = 150, 300, 450, 600, ...\n",
    "\n",
    "- lcm(50, 150) = 150"
   ]
  },
  {
   "cell_type": "markdown",
   "id": "bc7d21b7",
   "metadata": {},
   "source": [
    "`a*b = gcd(a, b) * lcm(a, b)`"
   ]
  },
  {
   "cell_type": "code",
   "execution_count": 19,
   "id": "ddf93e2e",
   "metadata": {},
   "outputs": [
    {
     "name": "stdout",
     "output_type": "stream",
     "text": [
      "5\n",
      "150.0\n"
     ]
    }
   ],
   "source": [
    "def gcd(a,b):\n",
    "    if b==0:\n",
    "        return a\n",
    "    return gcd(b, a%b)\n",
    "\n",
    "def lcm(a, b):\n",
    "    return a*b/gcd(a, b)\n",
    "print(gcd(15, 50))\n",
    "print(lcm(15, 50))"
   ]
  },
  {
   "cell_type": "markdown",
   "id": "2004445c",
   "metadata": {},
   "source": []
  }
 ],
 "metadata": {
  "kernelspec": {
   "display_name": "Python 3",
   "language": "python",
   "name": "python3"
  },
  "language_info": {
   "codemirror_mode": {
    "name": "ipython",
    "version": 3
   },
   "file_extension": ".py",
   "mimetype": "text/x-python",
   "name": "python",
   "nbconvert_exporter": "python",
   "pygments_lexer": "ipython3",
   "version": "3.13.7"
  }
 },
 "nbformat": 4,
 "nbformat_minor": 5
}
