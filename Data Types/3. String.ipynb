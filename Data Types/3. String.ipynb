{
 "cells": [
  {
   "cell_type": "markdown",
   "id": "e0cca280",
   "metadata": {},
   "source": [
    "# *String*\n",
    "\n",
    "in Python, a string is a sequence of characters. For example, \"hello\" is a string containing a sequence of characters 'h', 'e', 'l', 'l', 'o'.\n",
    "\n",
    "We use single quotes '' or double quotes \" \" to represent a string in python."
   ]
  },
  {
   "cell_type": "markdown",
   "id": "5077cdf3",
   "metadata": {},
   "source": [
    "\n",
    "- **Definition:** A string is a sequence of characters enclosed in quotes (`'`, `\"`, or `'''`/`\"\"\"`).\n",
    "- **Explanation:** Strings are used to store text data. They are immutable and support operations like concatenation, slicing, and built-in methods.\n"
   ]
  },
  {
   "cell_type": "code",
   "execution_count": 2,
   "id": "2745c14a",
   "metadata": {},
   "outputs": [
    {
     "name": "stdout",
     "output_type": "stream",
     "text": [
      "Prag <class 'str'>\n",
      "Python <class 'str'>\n"
     ]
    }
   ],
   "source": [
    "name = \"Prag\"\n",
    "Skill = \"Python\"\n",
    "print(name, type(name))\n",
    "print(Skill, type(Skill))"
   ]
  },
  {
   "cell_type": "code",
   "execution_count": 4,
   "id": "562fa77e",
   "metadata": {},
   "outputs": [
    {
     "name": "stdout",
     "output_type": "stream",
     "text": [
      "Hello World\n",
      "H\n",
      "orl\n",
      "PYTHON STRING\n"
     ]
    }
   ],
   "source": [
    "# Creating strings\n",
    "text1 = \"Hello\"\n",
    "text2 = 'World'\n",
    "text3 = \"\"\"Python String\"\"\"\n",
    "\n",
    "# Concatenation\n",
    "print(text1 + \" \" + text2)\n",
    "\n",
    "# Indexing\n",
    "print(text1[0])   # First character\n",
    "\n",
    "# Slicing\n",
    "print(text2[1:4])  # Characters from index 1 to 3\n",
    "\n",
    "# String method\n",
    "print(text3.upper())\n"
   ]
  },
  {
   "cell_type": "markdown",
   "id": "dee9c5ef",
   "metadata": {},
   "source": [
    "### All Common String Operations in Python\n",
    "\n",
    "| Operation | Description |\n",
    "|-----------|-------------|\n",
    "| `len(s)` | Returns length of string |\n",
    "| `lower()` | Converts string to lowercase |\n",
    "| `upper()` | Converts string to uppercase |\n",
    "| `title()` | Converts first letter of each word to uppercase |\n",
    "| `capitalize()` | Converts first character to uppercase, rest lowercase |\n",
    "| `swapcase()` | Swaps case of all letters |\n",
    "| `strip()` | Removes leading & trailing whitespaces |\n",
    "| `lstrip()` | Removes leading whitespaces |\n",
    "| `rstrip()` | Removes trailing whitespaces |\n",
    "| `replace(old, new)` | Replaces all occurrences of substring |\n",
    "| `split(delimiter)` | Splits string into list by delimiter (default space) |\n",
    "| `rsplit(delimiter)` | Splits string from the right side |\n",
    "| `splitlines()` | Splits string at line breaks |\n",
    "| `join(iterable)` | Joins iterable elements into single string |\n",
    "| `find(sub)` | Returns index of first occurrence of substring, else `-1` |\n",
    "| `rfind(sub)` | Returns last occurrence index of substring |\n",
    "| `index(sub)` | Returns index of substring, raises error if not found |\n",
    "| `rindex(sub)` | Returns last occurrence index, raises error if not found |\n",
    "| `count(sub)` | Counts occurrences of substring |\n",
    "| `startswith(prefix)` | Checks if string starts with prefix |\n",
    "| `endswith(suffix)` | Checks if string ends with suffix |\n",
    "| `isalpha()` | Checks if all characters are alphabets |\n",
    "| `isdigit()` | Checks if all characters are digits |\n",
    "| `isalnum()` | Checks if all characters are alphanumeric |\n",
    "| `isspace()` | Checks if string has only whitespaces |\n",
    "| `islower()` | Checks if all characters are lowercase |\n",
    "| `isupper()` | Checks if all characters are uppercase |\n",
    "| `istitle()` | Checks if string follows title case |\n",
    "| `zfill(width)` | Pads string on left with zeros to reach given width |\n",
    "| `center(width)` | Centers string with spaces of given width |\n",
    "| `ljust(width)` | Left aligns string with spaces |\n",
    "| `rjust(width)` | Right aligns string with spaces |\n",
    "| `encode()` | Returns encoded version of string |\n",
    "| `expandtabs(size)` | Sets tab size (default 8 spaces) |\n",
    "| `format()` | Formats string using placeholders |\n",
    "| `format_map(mapping)` | Formats string using dictionary mapping |\n",
    "| `maketrans()` | Creates translation table |\n",
    "| `translate(table)` | Replaces characters based on translation table |\n",
    "| `partition(sep)` | Splits string into 3 parts: before sep, sep, after sep |\n",
    "| `rpartition(sep)` | Same as partition, but from right side |\n",
    "| `casefold()` | Aggressive lowercase conversion (useful for comparisons) |\n"
   ]
  },
  {
   "cell_type": "code",
   "execution_count": 11,
   "id": "2b5bfacd",
   "metadata": {},
   "outputs": [],
   "source": [
    "s = \"  Hello Python 123  \"\n",
    "t = \"HELLO\"\n",
    "u = \"hello world\"\n"
   ]
  },
  {
   "cell_type": "markdown",
   "id": "a63180cb",
   "metadata": {},
   "source": [
    "#### Case conversions"
   ]
  },
  {
   "cell_type": "code",
   "execution_count": 8,
   "id": "6e041874",
   "metadata": {},
   "outputs": [
    {
     "name": "stdout",
     "output_type": "stream",
     "text": [
      "  hello python 123  \n",
      "  HELLO PYTHON 123  \n",
      "Hello World\n",
      "Hello world\n",
      "hello\n",
      "hello world\n"
     ]
    }
   ],
   "source": [
    "print(s.lower())       # lowercase\n",
    "print(s.upper())       # uppercase\n",
    "print(u.title())       # Title Case\n",
    "print(u.capitalize())  # First letter capitalized\n",
    "print(t.swapcase())    # Swap case\n",
    "print(u.casefold())    # Aggressive lowercase (better than lower)\n"
   ]
  },
  {
   "cell_type": "markdown",
   "id": "731b5e8e",
   "metadata": {},
   "source": [
    "#### Trimming & spacing\n"
   ]
  },
  {
   "cell_type": "code",
   "execution_count": 16,
   "id": "935173ee",
   "metadata": {},
   "outputs": [
    {
     "name": "stdout",
     "output_type": "stream",
     "text": [
      "Hello Python 123\n",
      "Hello Python 123  \n",
      "  Hello Python 123\n",
      "000000hi\n",
      "--------------hi--------------\n",
      "hi********\n",
      "********hi\n"
     ]
    }
   ],
   "source": [
    "s = \"  Hello Python 123  \"\n",
    "t = \"HELLO\"\n",
    "u = \"hello world\"\n",
    "\n",
    "print(s.strip())    # remove spaces both sides\n",
    "print(s.lstrip())   # remove spaces left\n",
    "print(s.rstrip())   # remove spaces right\n",
    "print(\"hi\".zfill(8)) # zero padding\n",
    "print(\"hi\".center(30, \"-\")) # centered with '-'\n",
    "print(\"hi\".ljust(10, \"*\"))  # left justified\n",
    "print(\"hi\".rjust(10, \"*\"))  # right justified\n"
   ]
  },
  {
   "cell_type": "markdown",
   "id": "569f25b9",
   "metadata": {},
   "source": [
    "#### Search & replace\n"
   ]
  },
  {
   "cell_type": "code",
   "execution_count": 17,
   "id": "5ea0866d",
   "metadata": {},
   "outputs": [
    {
     "name": "stdout",
     "output_type": "stream",
     "text": [
      "8\n",
      "12\n",
      "2\n",
      "12\n",
      "2\n",
      "  Hello World 123  \n"
     ]
    }
   ],
   "source": [
    "s = \"  Hello Python 123  \"\n",
    "t = \"HELLO\"\n",
    "u = \"hello world\"\n",
    "\n",
    "print(s.find(\"Python\"))   # index of substring (first)\n",
    "print(s.rfind(\"o\"))       # last occurrence\n",
    "print(s.index(\"Hello\"))   # index, error if not found\n",
    "print(s.rindex(\"o\"))      # last index, error if not found\n",
    "print(s.count(\"l\"))       # count occurrences\n",
    "print(s.replace(\"Python\", \"World\"))  # replace\n"
   ]
  },
  {
   "cell_type": "markdown",
   "id": "af4191a4",
   "metadata": {},
   "source": [
    "#### Split & Join"
   ]
  },
  {
   "cell_type": "code",
   "execution_count": 1,
   "id": "31e14d09",
   "metadata": {},
   "outputs": [
    {
     "name": "stdout",
     "output_type": "stream",
     "text": [
      "['Hello', 'Python', '123']\n",
      "['  Hell', ' Pyth', 'n 123  ']\n",
      "['  Hello Python', '123', '', '']\n",
      "['a', 'b', 'c']\n",
      "a,b,c\n",
      "abc\n"
     ]
    }
   ],
   "source": [
    "s = \"  Hello Python 123  \"\n",
    "t = \"HELLO\"\n",
    "u = \"hello world\"\n",
    "\n",
    "print(s.split())          # split by whitespace\n",
    "print(s.split(\"o\"))       # split by 'o'\n",
    "print(s.rsplit(\" \", 3))   # split from right, max 3\n",
    "print(\"a\\nb\\nc\".splitlines())  # split by line\n",
    "print(\",\".join([\"a\", \"b\", \"c\"]))  # join with comma\n",
    "print(\"\".join([\"a\", \"b\", \"c\"]))  \n"
   ]
  },
  {
   "cell_type": "markdown",
   "id": "a9f76478",
   "metadata": {},
   "source": [
    "#### Check methods"
   ]
  },
  {
   "cell_type": "code",
   "execution_count": 20,
   "id": "cf3e6376",
   "metadata": {},
   "outputs": [
    {
     "name": "stdout",
     "output_type": "stream",
     "text": [
      "True\n",
      "True\n",
      "True\n",
      "True\n",
      "True\n",
      "True\n",
      "True\n"
     ]
    }
   ],
   "source": [
    "s = \"  Hello Python 123  \"\n",
    "t = \"HELLO\"\n",
    "u = \"hello world\"\n",
    "\n",
    "print(\"abc\".isalpha())   # all letters?\n",
    "print(\"123\".isdigit())   # all digits?\n",
    "print(\"abc123\".isalnum()) # letters+digits?\n",
    "print(\"   \".isspace())   # only spaces?\n",
    "print(\"hello\".islower()) # all lowercase?\n",
    "print(\"HELLO\".isupper()) # all uppercase?\n",
    "print(\"Hello World\".istitle()) # title case?\n"
   ]
  },
  {
   "cell_type": "markdown",
   "id": "3ec940e5",
   "metadata": {},
   "source": [
    "#### Partitioning\n"
   ]
  },
  {
   "cell_type": "code",
   "execution_count": 19,
   "id": "546f7537",
   "metadata": {},
   "outputs": [
    {
     "name": "stdout",
     "output_type": "stream",
     "text": [
      "('email', '@', 'example.com')\n",
      "('email@example', '.', 'com')\n"
     ]
    }
   ],
   "source": [
    "print(\"email@example.com\".partition(\"@\"))   # split into 3 parts\n",
    "print(\"email@example.com\".rpartition(\".\"))  # split from right\n"
   ]
  },
  {
   "cell_type": "code",
   "execution_count": 21,
   "id": "faeb7c95",
   "metadata": {},
   "outputs": [
    {
     "name": "stdout",
     "output_type": "stream",
     "text": [
      "a   b   c\n",
      "b'hello world'\n",
      "h2ll4 w4rld\n"
     ]
    }
   ],
   "source": [
    "# Tabs, Encoding, Translation\n",
    "print(\"a\\tb\\tc\".expandtabs(4))  # set tab size\n",
    "print(u.encode())  # encode to bytes\n",
    "\n",
    "# maketrans + translate\n",
    "trans_table = str.maketrans(\"aeiou\", \"12345\")\n",
    "print(\"hello world\".translate(trans_table))\n"
   ]
  },
  {
   "cell_type": "code",
   "execution_count": 22,
   "id": "2aa84d1c",
   "metadata": {},
   "outputs": [
    {
     "name": "stdout",
     "output_type": "stream",
     "text": [
      "My name is Pragu\n",
      "I scored 95 in Math\n",
      "Hello Anurag\n"
     ]
    }
   ],
   "source": [
    "# Format methods\n",
    "print(\"My name is {}\".format(\"Pragu\"))\n",
    "print(\"I scored {marks} in {subject}\".format(marks=95, subject=\"Math\"))\n",
    "print(\"Hello {name}\".format_map({\"name\": \"Anurag\"}))\n"
   ]
  },
  {
   "cell_type": "code",
   "execution_count": null,
   "id": "3011ea03",
   "metadata": {},
   "outputs": [],
   "source": []
  }
 ],
 "metadata": {
  "kernelspec": {
   "display_name": "Python 3",
   "language": "python",
   "name": "python3"
  },
  "language_info": {
   "codemirror_mode": {
    "name": "ipython",
    "version": 3
   },
   "file_extension": ".py",
   "mimetype": "text/x-python",
   "name": "python",
   "nbconvert_exporter": "python",
   "pygments_lexer": "ipython3",
   "version": "3.13.7"
  }
 },
 "nbformat": 4,
 "nbformat_minor": 5
}
