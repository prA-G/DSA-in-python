{
 "cells": [
  {
   "cell_type": "markdown",
   "id": "7d024624",
   "metadata": {},
   "source": [
    "# *SET*"
   ]
  },
  {
   "cell_type": "markdown",
   "id": "721610b8",
   "metadata": {},
   "source": [
    "*A set is a collection of unique data, meaning that elements within a set cannot be duplicated.*"
   ]
  },
  {
   "cell_type": "markdown",
   "id": "5963a387",
   "metadata": {},
   "source": [
    "- A **set** is an **unordered collection** of **unique elements**.  \n",
    "- Sets are useful when you want to **store non-duplicate items** and perform operations like union, intersection, difference, etc.  \n",
    "- Elements in a set are **mutable**, but the elements themselves must be **immutable** (like numbers, strings, tuples).  \n",
    "- Features:\n",
    "    - Sequence\n",
    "    - Heterogenuous\n",
    "    - Mutable\n",
    "    - Unorderd\n",
    "    - Unique Elments\n",
    "    - No indexing"
   ]
  },
  {
   "cell_type": "markdown",
   "id": "a7c9ce87",
   "metadata": {},
   "source": [
    "| Operation | Description | Example |\n",
    "|-----------|-------------|---------|\n",
    "| `add(elem)` | Adds an element to the set | `s = {1,2}; s.add(3)  # {1,2,3}` |\n",
    "| `update(iterable)` | Adds multiple elements to the set | `s = {1,2}; s.update([3,4])  # {1,2,3,4}` |\n",
    "| `remove(elem)` | Removes an element; raises error if not present | `s = {1,2}; s.remove(2)  # {1}` |\n",
    "| `discard(elem)` | Removes an element if present, no error if absent | `s = {1,2}; s.discard(3)  # {1,2}` |\n",
    "| `pop()` | Removes and returns an arbitrary element | `s = {1,2}; s.pop()  # returns 1 or 2` |\n",
    "| `clear()` | Removes all elements | `s = {1,2}; s.clear()  # set()` |\n",
    "| `copy()` | Returns a shallow copy of the set | `s = {1,2}; s.copy()  # {1,2}` |\n",
    "| `union(other_set)` or `|` | Returns a set with all elements from both sets | `{1,2} | {2,3}  # {1,2,3}` |\n",
    "| `intersection(other_set)` or `&` | Returns a set with elements common to both sets | `{1,2} & {2,3}  # {2}` |\n",
    "| `difference(other_set)` or `-` | Returns a set with elements in the first but not in the second | `{1,2} - {2,3}  # {1}` |\n",
    "| `symmetric_difference(other_set)` or `^` | Returns elements in either set, but not both | `{1,2} ^ {2,3}  # {1,3}` |\n",
    "| `issubset(other_set)` | Returns `True` if set is subset of another | `{1,2}.issubset({1,2,3})  # True` |\n",
    "| `issuperset(other_set)` | Returns `True` if set is superset of another | `{1,2,3}.issuperset({1,2})  # True` |\n",
    "| `isdisjoint(other_set)` | Returns `True` if sets have no common elements | `{1,2}.isdisjoint({3,4})  # True` |\n"
   ]
  },
  {
   "cell_type": "code",
   "execution_count": 2,
   "id": "90cb1c54",
   "metadata": {},
   "outputs": [
    {
     "data": {
      "text/plain": [
       "{2, 4, 'Hello', 'Prag'}"
      ]
     },
     "execution_count": 2,
     "metadata": {},
     "output_type": "execute_result"
    }
   ],
   "source": [
    "set1 = {2, 4, \"Hello\", 2, \"Prag\", \"Hello\", 2, 4}\n",
    "set1  # will remove all duplicates"
   ]
  },
  {
   "cell_type": "code",
   "execution_count": 3,
   "id": "97b1c7a5",
   "metadata": {},
   "outputs": [
    {
     "data": {
      "text/plain": [
       "set"
      ]
     },
     "execution_count": 3,
     "metadata": {},
     "output_type": "execute_result"
    }
   ],
   "source": [
    "type(set1)"
   ]
  },
  {
   "cell_type": "code",
   "execution_count": 4,
   "id": "6c327e57",
   "metadata": {},
   "outputs": [
    {
     "data": {
      "text/plain": [
       "4"
      ]
     },
     "execution_count": 4,
     "metadata": {},
     "output_type": "execute_result"
    }
   ],
   "source": [
    "len(set1)"
   ]
  },
  {
   "cell_type": "code",
   "execution_count": null,
   "id": "74d9d7d6",
   "metadata": {},
   "outputs": [],
   "source": []
  }
 ],
 "metadata": {
  "kernelspec": {
   "display_name": "Python 3",
   "language": "python",
   "name": "python3"
  },
  "language_info": {
   "codemirror_mode": {
    "name": "ipython",
    "version": 3
   },
   "file_extension": ".py",
   "mimetype": "text/x-python",
   "name": "python",
   "nbconvert_exporter": "python",
   "pygments_lexer": "ipython3",
   "version": "3.13.7"
  }
 },
 "nbformat": 4,
 "nbformat_minor": 5
}
