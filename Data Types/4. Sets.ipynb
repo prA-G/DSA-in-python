{
 "cells": [
  {
   "cell_type": "markdown",
   "id": "7d024624",
   "metadata": {},
   "source": [
    "# *SET*"
   ]
  },
  {
   "cell_type": "markdown",
   "id": "721610b8",
   "metadata": {},
   "source": [
    "*A set is a collection of unique data, meaning that elements within a set cannot be duplicated.*"
   ]
  },
  {
   "cell_type": "markdown",
   "id": "5963a387",
   "metadata": {},
   "source": [
    "- A **set** is an **unordered collection** of **unique elements**.  \n",
    "- Sets are useful when you want to **store non-duplicate items** and perform operations like union, intersection, difference, etc.  \n",
    "- Elements in a set are **mutable**, but the elements themselves must be **immutable** (like numbers, strings, tuples).  \n",
    "- Features:\n",
    "    - Sequence\n",
    "    - Heterogenuous\n",
    "    - Mutable\n",
    "    - Unorderd\n",
    "    - Unique Elments\n",
    "    - No indexing"
   ]
  },
  {
   "cell_type": "markdown",
   "id": "a7c9ce87",
   "metadata": {},
   "source": [
    "## Python Set Operations\n",
    "\n",
    "| Operation                        | Description                                        | Syntax / Example                       | Result / Output                 |\n",
    "|----------------------------------|---------------------------------------------------|----------------------------------------|---------------------------------|\n",
    "| Create a set                      | Define a set of unique elements                   | `A = {1,2,3}`                          | `{1, 2, 3}`                     |\n",
    "| Add element                       | Add a single element                              | `A.add(4)`                              | `{1, 2, 3, 4}`                  |\n",
    "| Update (add multiple elements)    | Add multiple elements                             | `A.update([5,6])`                       | `{1, 2, 3, 4, 5, 6}`            |\n",
    "| Remove element                    | Remove specific element (error if not present)   | `A.remove(2)`                            | `{1, 3, 4, 5, 6}`               |\n",
    "| Discard element                   | Remove element (no error if not present)         | `A.discard(10)`                          | `{1, 3, 4, 5, 6}`               |\n",
    "| Pop                               | Remove and return an arbitrary element           | `A.pop()`                                | Removed element, set updated    |\n",
    "| Clear                             | Remove all elements                               | `A.clear()`                              | `set()`                          |\n",
    "| Union                             | Elements in **A or B**                             | `A | B` or `A.union(B)`                 | `{1,2,3,4,5,6}`                 |\n",
    "| Intersection                      | Elements in **both A and B**                      | `A & B` or `A.intersection(B)`         | `{3,4}`                          |\n",
    "| Difference                        | Elements in **A not in B**                        | `A - B` or `A.difference(B)`           | `{1,2}`                          |\n",
    "| Symmetric Difference              | Elements in **A or B but not both**              | `A ^ B` or `A.symmetric_difference(B)` | `{1,2,5,6}`                      |\n",
    "| Subset                            | Check if all elements of A are in B              | `A <= B` or `A.issubset(B)`            | `True/False`                     |\n",
    "| Superset                          | Check if A contains all elements of B            | `A >= B` or `A.issuperset(B)`          | `True/False`                     |\n",
    "| Membership Test                   | Check if an element exists in set                | `x in A` / `x not in A`                 | `True/False`                     |\n",
    "| Length                            | Number of elements in set                         | `len(A)`                                | Integer value                    |\n"
   ]
  },
  {
   "cell_type": "code",
   "execution_count": 2,
   "id": "90cb1c54",
   "metadata": {},
   "outputs": [
    {
     "data": {
      "text/plain": [
       "{2, 4, 'Hello', 'Prag'}"
      ]
     },
     "execution_count": 2,
     "metadata": {},
     "output_type": "execute_result"
    }
   ],
   "source": [
    "set1 = {2, 4, \"Hello\", 2, \"Prag\", \"Hello\", 2, 4}\n",
    "set1  # will remove all duplicates"
   ]
  },
  {
   "cell_type": "code",
   "execution_count": 3,
   "id": "97b1c7a5",
   "metadata": {},
   "outputs": [
    {
     "data": {
      "text/plain": [
       "set"
      ]
     },
     "execution_count": 3,
     "metadata": {},
     "output_type": "execute_result"
    }
   ],
   "source": [
    "type(set1)"
   ]
  },
  {
   "cell_type": "code",
   "execution_count": 4,
   "id": "6c327e57",
   "metadata": {},
   "outputs": [
    {
     "data": {
      "text/plain": [
       "4"
      ]
     },
     "execution_count": 4,
     "metadata": {},
     "output_type": "execute_result"
    }
   ],
   "source": [
    "len(set1)"
   ]
  },
  {
   "cell_type": "code",
   "execution_count": null,
   "id": "74d9d7d6",
   "metadata": {},
   "outputs": [],
   "source": []
  }
 ],
 "metadata": {
  "kernelspec": {
   "display_name": "Python 3",
   "language": "python",
   "name": "python3"
  },
  "language_info": {
   "codemirror_mode": {
    "name": "ipython",
    "version": 3
   },
   "file_extension": ".py",
   "mimetype": "text/x-python",
   "name": "python",
   "nbconvert_exporter": "python",
   "pygments_lexer": "ipython3",
   "version": "3.13.7"
  }
 },
 "nbformat": 4,
 "nbformat_minor": 5
}
