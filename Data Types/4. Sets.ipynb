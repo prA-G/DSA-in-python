{
 "cells": [
  {
   "cell_type": "markdown",
   "id": "7d024624",
   "metadata": {},
   "source": [
    "# *SET*"
   ]
  },
  {
   "cell_type": "markdown",
   "id": "721610b8",
   "metadata": {},
   "source": [
    "*A set is a collection of unique data, meaning that elements within a set cannot be duplicated.*"
   ]
  },
  {
   "cell_type": "markdown",
   "id": "5963a387",
   "metadata": {},
   "source": [
    "- A **set** is an **unordered collection** of **unique elements**.  \n",
    "- Sets are useful when you want to **store non-duplicate items** and perform operations like union, intersection, difference, etc.  \n",
    "- Elements in a set are **mutable**, but the elements themselves must be **immutable** (like numbers, strings, tuples).  \n",
    "- Features:\n",
    "    - Sequence\n",
    "    - Heterogenuous\n",
    "    - Mutable\n",
    "    - Unorderd\n",
    "    - Unique Elments\n",
    "    - No indexing"
   ]
  },
  {
   "cell_type": "markdown",
   "id": "a7c9ce87",
   "metadata": {},
   "source": [
    "## Operations on set\n",
    "| Operation | Description |\n",
    "|-----------|-------------|\n",
    "| `add(elem)` | Adds an element to the set |\n",
    "| `update(iterable)` | Adds multiple elements to the set |\n",
    "| `remove(elem)` | Removes an element; raises error if not present |\n",
    "| `discard(elem)` | Removes an element if present, no error if absent |\n",
    "| `pop()` | Removes and returns an arbitrary element |\n",
    "| `clear()` | Removes all elements |\n",
    "| `copy()` | Returns a shallow copy of the set |\n",
    "| `union(other_set)` or `union()` | Returns a set with all elements from both sets |\n",
    "| `intersection(other_set)` or `intersection()` | Returns a set with elements common to both sets |\n",
    "| `difference(other_set)` or `difference()` | Returns a set with elements in the first but not in the second |\n",
    "| `symmetric_difference(other_set)` or `symmetric_difference()` | Returns elements in either set, but not both |\n",
    "| `issubset(other_set)` | Returns True if set is subset of another |\n",
    "| `issuperset(other_set)` | Returns True if set is superset of another |\n",
    "| `isdisjoint(other_set)` | Returns True if sets have no common elements |\n"
   ]
  },
  {
   "cell_type": "code",
   "execution_count": 2,
   "id": "90cb1c54",
   "metadata": {},
   "outputs": [
    {
     "data": {
      "text/plain": [
       "{2, 4, 'Hello', 'Prag'}"
      ]
     },
     "execution_count": 2,
     "metadata": {},
     "output_type": "execute_result"
    }
   ],
   "source": [
    "set1 = {2, 4, \"Hello\", 2, \"Prag\", \"Hello\", 2, 4}\n",
    "set1  # will remove all duplicates"
   ]
  },
  {
   "cell_type": "code",
   "execution_count": 3,
   "id": "97b1c7a5",
   "metadata": {},
   "outputs": [
    {
     "data": {
      "text/plain": [
       "set"
      ]
     },
     "execution_count": 3,
     "metadata": {},
     "output_type": "execute_result"
    }
   ],
   "source": [
    "type(set1)"
   ]
  },
  {
   "cell_type": "code",
   "execution_count": 4,
   "id": "6c327e57",
   "metadata": {},
   "outputs": [
    {
     "data": {
      "text/plain": [
       "4"
      ]
     },
     "execution_count": 4,
     "metadata": {},
     "output_type": "execute_result"
    }
   ],
   "source": [
    "len(set1)"
   ]
  },
  {
   "cell_type": "code",
   "execution_count": null,
   "id": "74d9d7d6",
   "metadata": {},
   "outputs": [],
   "source": []
  }
 ],
 "metadata": {
  "kernelspec": {
   "display_name": "Python 3",
   "language": "python",
   "name": "python3"
  },
  "language_info": {
   "codemirror_mode": {
    "name": "ipython",
    "version": 3
   },
   "file_extension": ".py",
   "mimetype": "text/x-python",
   "name": "python",
   "nbconvert_exporter": "python",
   "pygments_lexer": "ipython3",
   "version": "3.13.7"
  }
 },
 "nbformat": 4,
 "nbformat_minor": 5
}
