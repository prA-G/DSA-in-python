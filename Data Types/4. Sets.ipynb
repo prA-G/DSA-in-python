{
 "cells": [
  {
   "cell_type": "markdown",
   "id": "7d024624",
   "metadata": {},
   "source": [
    "# *SET*"
   ]
  },
  {
   "cell_type": "markdown",
   "id": "721610b8",
   "metadata": {},
   "source": [
    "*A set is a collection of unique data, meaning that elements within a set cannot be duplicated.*"
   ]
  },
  {
   "cell_type": "markdown",
   "id": "5963a387",
   "metadata": {},
   "source": [
    "- A **set** is an **unordered collection** of **unique elements**.  \n",
    "- Sets are useful when you want to **store non-duplicate items** and perform operations like union, intersection, difference, etc.  \n",
    "- Elements in a set are **mutable**, but the elements themselves must be **immutable** (like numbers, strings, tuples).  \n",
    "- Features:\n",
    "    - Sequence\n",
    "    - Heterogenuous\n",
    "    - Mutable\n",
    "    - Unorderd\n",
    "    - Unique Elments\n",
    "    - No indexing"
   ]
  },
  {
   "cell_type": "markdown",
   "id": "a7c9ce87",
   "metadata": {},
   "source": [
    "## Operations on set\n",
    "| Operation | Description |\n",
    "|-----------|-------------|\n",
    "| `add(elem)` | Adds an element to the set |\n",
    "| `update(iterable)` | Adds multiple elements to the set |\n",
    "| `remove(elem)` | Removes an element; raises error if not present |\n",
    "| `discard(elem)` | Removes an element if present, no error if absent |\n",
    "| `pop()` | Removes and returns an arbitrary element |\n",
    "| `clear()` | Removes all elements |\n",
    "| `copy()` | Returns a shallow copy of the set |\n",
    "| `union(other_set)` or `union()` | Returns a set with all elements from both sets |\n",
    "| `intersection(other_set)` or `intersection()` | Returns a set with elements common to both sets |\n",
    "| `difference(other_set)` or `difference()` | Returns a set with elements in the first but not in the second |\n",
    "| `symmetric_difference(other_set)` or `symmetric_difference()` | Returns elements in either set, but not both |\n",
    "| `issubset(other_set)` | Returns True if set is subset of another |\n",
    "| `issuperset(other_set)` | Returns True if set is superset of another |\n",
    "| `isdisjoint(other_set)` | Returns True if sets have no common elements |\n"
   ]
  },
  {
   "cell_type": "code",
   "execution_count": 2,
   "id": "90cb1c54",
   "metadata": {},
   "outputs": [
    {
     "data": {
      "text/plain": [
       "{2, 4, 'Hello', 'Prag'}"
      ]
     },
     "execution_count": 2,
     "metadata": {},
     "output_type": "execute_result"
    }
   ],
   "source": [
    "set1 = {2, 4, \"Hello\", 2, \"Prag\", \"Hello\", 2, 4}\n",
    "set1  # will remove all duplicates"
   ]
  },
  {
   "cell_type": "code",
   "execution_count": 3,
   "id": "97b1c7a5",
   "metadata": {},
   "outputs": [
    {
     "data": {
      "text/plain": [
       "set"
      ]
     },
     "execution_count": 3,
     "metadata": {},
     "output_type": "execute_result"
    }
   ],
   "source": [
    "type(set1)"
   ]
  },
  {
   "cell_type": "code",
   "execution_count": 4,
   "id": "6c327e57",
   "metadata": {},
   "outputs": [
    {
     "data": {
      "text/plain": [
       "4"
      ]
     },
     "execution_count": 4,
     "metadata": {},
     "output_type": "execute_result"
    }
   ],
   "source": [
    "len(set1)"
   ]
  },
  {
   "cell_type": "code",
   "execution_count": 2,
   "id": "74d9d7d6",
   "metadata": {},
   "outputs": [
    {
     "name": "stdout",
     "output_type": "stream",
     "text": [
      "{2, 3, 4, 5, 6, 7}\n",
      "6\n"
     ]
    }
   ],
   "source": [
    "list1 = [3,4,6,3,2,4,5,6,3,4,2,3,7,6,5,4,3,2,5]\n",
    "\n",
    "# Count number of unique elements in the list\n",
    "\n",
    "set1 = set(list1)\n",
    "print(set1)\n",
    "print(len(set1))"
   ]
  },
  {
   "cell_type": "code",
   "execution_count": 21,
   "id": "a217cb03",
   "metadata": {},
   "outputs": [
    {
     "name": "stdout",
     "output_type": "stream",
     "text": [
      "After add: {1, 2, 3, 6}\n"
     ]
    }
   ],
   "source": [
    "# Creating sets\n",
    "A = {1, 2, 3}\n",
    "B = {3, 4, 5}\n",
    "\n",
    "# 1. add()\n",
    "A.add(6)\n",
    "print(\"After add:\", A)   # {1, 2, 3, 6}"
   ]
  },
  {
   "cell_type": "code",
   "execution_count": 22,
   "id": "98e76e37",
   "metadata": {},
   "outputs": [
    {
     "name": "stdout",
     "output_type": "stream",
     "text": [
      "After update: {1, 2, 3, 6, 7, 8}\n"
     ]
    }
   ],
   "source": [
    "# 2. update()\n",
    "A.update([7, 8])\n",
    "print(\"After update:\", A)"
   ]
  },
  {
   "cell_type": "code",
   "execution_count": 23,
   "id": "925efd07",
   "metadata": {},
   "outputs": [
    {
     "name": "stdout",
     "output_type": "stream",
     "text": [
      "After remove: {1, 3, 6, 7, 8}\n"
     ]
    }
   ],
   "source": [
    "# 3. remove()\n",
    "A.remove(2)\n",
    "print(\"After remove:\", A)  # throw error if element not present"
   ]
  },
  {
   "cell_type": "code",
   "execution_count": 6,
   "id": "55e2c56f",
   "metadata": {},
   "outputs": [
    {
     "name": "stdout",
     "output_type": "stream",
     "text": [
      "After discard: {1, 3, 6, 7, 8}\n"
     ]
    }
   ],
   "source": [
    "# 4. discard()\n",
    "A.discard(10)   # no error even if element not present\n",
    "print(\"After discard:\", A)"
   ]
  },
  {
   "cell_type": "code",
   "execution_count": 7,
   "id": "307bf34a",
   "metadata": {},
   "outputs": [
    {
     "name": "stdout",
     "output_type": "stream",
     "text": [
      "Popped element: 1\n",
      "After pop: {3, 6, 7, 8}\n"
     ]
    }
   ],
   "source": [
    "# 5. pop()\n",
    "x = A.pop()\n",
    "print(\"Popped element:\", x)\n",
    "print(\"After pop:\", A)"
   ]
  },
  {
   "cell_type": "code",
   "execution_count": 8,
   "id": "ca9754ee",
   "metadata": {},
   "outputs": [
    {
     "name": "stdout",
     "output_type": "stream",
     "text": [
      "After clear: set()\n"
     ]
    }
   ],
   "source": [
    "# 6. clear()\n",
    "C = {1, 2, 3}\n",
    "C.clear()\n",
    "print(\"After clear:\", C) "
   ]
  },
  {
   "cell_type": "code",
   "execution_count": 9,
   "id": "10b9b7d9",
   "metadata": {},
   "outputs": [
    {
     "name": "stdout",
     "output_type": "stream",
     "text": [
      "Copy of B: {3, 4, 5}\n"
     ]
    }
   ],
   "source": [
    "# 7. copy()\n",
    "D = B.copy()\n",
    "print(\"Copy of B:\", D)"
   ]
  },
  {
   "cell_type": "code",
   "execution_count": 10,
   "id": "e15a970f",
   "metadata": {},
   "outputs": [
    {
     "name": "stdout",
     "output_type": "stream",
     "text": [
      "Union: {3, 4, 5, 6, 7, 8}\n",
      "Union using |: {3, 4, 5, 6, 7, 8}\n"
     ]
    }
   ],
   "source": [
    "# 8. union() or |\n",
    "print(\"Union:\", A.union(B))   # elements from A and B\n",
    "print(\"Union using |:\", A | B)"
   ]
  },
  {
   "cell_type": "code",
   "execution_count": 11,
   "id": "a5ee6a38",
   "metadata": {},
   "outputs": [
    {
     "name": "stdout",
     "output_type": "stream",
     "text": [
      "Intersection: {3}\n",
      "Intersection using &: {3}\n"
     ]
    }
   ],
   "source": [
    "# 9. intersection() or &\n",
    "print(\"Intersection:\", A.intersection(B))\n",
    "print(\"Intersection using &:\", A & B)"
   ]
  },
  {
   "cell_type": "code",
   "execution_count": 12,
   "id": "f76f7a51",
   "metadata": {},
   "outputs": [
    {
     "name": "stdout",
     "output_type": "stream",
     "text": [
      "Difference: {8, 6, 7}\n",
      "Difference using -: {8, 6, 7}\n"
     ]
    }
   ],
   "source": [
    "# 10. difference() or -\n",
    "print(\"Difference:\", A.difference(B))\n",
    "print(\"Difference using -:\", A - B)"
   ]
  },
  {
   "cell_type": "code",
   "execution_count": 13,
   "id": "ccc41c10",
   "metadata": {},
   "outputs": [
    {
     "name": "stdout",
     "output_type": "stream",
     "text": [
      "Symmetric Difference: {4, 5, 6, 7, 8}\n",
      "Symmetric Difference using ^: {4, 5, 6, 7, 8}\n"
     ]
    }
   ],
   "source": [
    "# 11. symmetric_difference() or ^\n",
    "print(\"Symmetric Difference:\", A.symmetric_difference(B))\n",
    "print(\"Symmetric Difference using ^:\", A ^ B)"
   ]
  },
  {
   "cell_type": "code",
   "execution_count": 15,
   "id": "d30bb486",
   "metadata": {},
   "outputs": [
    {
     "name": "stdout",
     "output_type": "stream",
     "text": [
      "Is {1,2} subset of {1,2,3}? : True\n"
     ]
    }
   ],
   "source": [
    "# 12. issubset()\n",
    "print(\"Is {1,2} subset of {1,2,3}? :\", {1,2}.issubset({1,2,3}))"
   ]
  },
  {
   "cell_type": "code",
   "execution_count": 16,
   "id": "c349ae09",
   "metadata": {},
   "outputs": [
    {
     "name": "stdout",
     "output_type": "stream",
     "text": [
      "Is {1,2,3} superset of {1,2}? : True\n"
     ]
    }
   ],
   "source": [
    "# 13. issuperset()\n",
    "print(\"Is {1,2,3} superset of {1,2}? :\", {1,2,3}.issuperset({1,2}))"
   ]
  },
  {
   "cell_type": "code",
   "execution_count": 17,
   "id": "0d648078",
   "metadata": {},
   "outputs": [
    {
     "name": "stdout",
     "output_type": "stream",
     "text": [
      "Are {1,2} and {3,4} disjoint? : True\n"
     ]
    }
   ],
   "source": [
    "# 14. isdisjoint()\n",
    "print(\"Are {1,2} and {3,4} disjoint? :\", {1,2}.isdisjoint({3,4}))"
   ]
  },
  {
   "cell_type": "code",
   "execution_count": 24,
   "id": "26fd9986",
   "metadata": {},
   "outputs": [
    {
     "name": "stdout",
     "output_type": "stream",
     "text": [
      "True\n"
     ]
    }
   ],
   "source": [
    "# iteration\n",
    "set1 = {\"hello\", 2, 4.5, \"Prag\"}\n",
    "\n",
    "if \"hello\" in set1:\n",
    "    print(True)\n",
    "else:\n",
    "    print(False)\n"
   ]
  },
  {
   "cell_type": "code",
   "execution_count": null,
   "id": "e5ff9fe9",
   "metadata": {},
   "outputs": [],
   "source": []
  }
 ],
 "metadata": {
  "kernelspec": {
   "display_name": "Python 3",
   "language": "python",
   "name": "python3"
  },
  "language_info": {
   "codemirror_mode": {
    "name": "ipython",
    "version": 3
   },
   "file_extension": ".py",
   "mimetype": "text/x-python",
   "name": "python",
   "nbconvert_exporter": "python",
   "pygments_lexer": "ipython3",
   "version": "3.13.7"
  }
 },
 "nbformat": 4,
 "nbformat_minor": 5
}
