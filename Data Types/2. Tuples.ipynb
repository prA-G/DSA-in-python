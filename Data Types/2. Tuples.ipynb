{
 "cells": [
  {
   "cell_type": "markdown",
   "id": "756a9a9e",
   "metadata": {},
   "source": [
    "# *Tuple*\n",
    "\n",
    "A tuple is a collection similar to a Python list. The primary difference is that we cannot modify a tuple once it is created.\n",
    "\n",
    "**Features**:\n",
    "- *Ordered* : They maintain the order of elements\n",
    "- *Immutable* : They cannot be changed after creation.\n",
    "- *Allow Duplicates* : They can contain the duplicates value."
   ]
  },
  {
   "cell_type": "code",
   "execution_count": 1,
   "id": "13a69384",
   "metadata": {},
   "outputs": [
    {
     "name": "stdout",
     "output_type": "stream",
     "text": [
      "('Hello', 123, 34.45, True) <class 'tuple'>\n"
     ]
    }
   ],
   "source": [
    "tuple1 = (\"Hello\", 123, 34.45, True)\n",
    "print(tuple1, type(tuple1))"
   ]
  },
  {
   "cell_type": "markdown",
   "id": "254f7b15",
   "metadata": {},
   "source": [
    "Tuple does not allow following operations and functions because of its immuatability:\n",
    "\n",
    "- append()\n",
    "- extend()\n",
    "- insert()\n",
    "- remove()\n",
    "- pop()\n",
    "- sort()\n",
    "- reverse()\n",
    "- clear()\n",
    "- copy()"
   ]
  },
  {
   "cell_type": "markdown",
   "id": "fe674c27",
   "metadata": {},
   "source": [
    "# All Tuple Operations in Python\n",
    "\n",
    "| Operation | Description |\n",
    "|-----------|-------------|\n",
    "| `len(tuple)` | Returns number of elements |\n",
    "| `tuple[index]` | Access element at given index |\n",
    "| `tuple[start:end]` | Slice tuple (end not included) |\n",
    "| `tuple.count(x)` | Counts occurrences of `x` |\n",
    "| `tuple.index(x)` | Returns index of first occurrence of `x` |\n",
    "| `+` (concatenation) | Joins two tuples |\n",
    "| `*` (repetition) | Repeats tuple elements |\n",
    "| `in` / `not in` | Membership test |\n",
    "| `min(tuple)` | Returns smallest element (if comparable) |\n",
    "| `max(tuple)` | Returns largest element |\n",
    "| `sum(tuple)` | Returns sum of numeric elements |\n",
    "| `any(tuple)` | True if any element is truthy |\n",
    "| `all(tuple)` | True if all elements are truthy |\n",
    "| `tuple()` | Constructor to create tuple |\n",
    "| Tuple unpacking | Assign multiple values at once |\n",
    "| Nested tuples | Tuples inside tuples |\n",
    "| Immutability | Tuples cannot be changed after creation |\n"
   ]
  },
  {
   "cell_type": "code",
   "execution_count": 14,
   "id": "e227f3d6",
   "metadata": {},
   "outputs": [],
   "source": [
    "# Basic tuple\n",
    "tup = (10, 20, 30, 40, 20)\n"
   ]
  },
  {
   "cell_type": "code",
   "execution_count": 15,
   "id": "ddb8fb93",
   "metadata": {},
   "outputs": [
    {
     "name": "stdout",
     "output_type": "stream",
     "text": [
      "5\n",
      "10\n",
      "20\n",
      "(20, 30, 40)\n"
     ]
    }
   ],
   "source": [
    "# Length & indexing\n",
    "print(len(tup))\n",
    "print(tup[0])      # first element\n",
    "print(tup[-1])     # last element\n",
    "print(tup[1:4])    # slicing\n"
   ]
  },
  {
   "cell_type": "code",
   "execution_count": 16,
   "id": "90ee4620",
   "metadata": {},
   "outputs": [
    {
     "name": "stdout",
     "output_type": "stream",
     "text": [
      "2\n",
      "2\n"
     ]
    }
   ],
   "source": [
    "# Count & index\n",
    "print(tup.count(20))   # how many 20s\n",
    "print(tup.index(30))   # index of 30\n"
   ]
  },
  {
   "cell_type": "code",
   "execution_count": 17,
   "id": "da41b216",
   "metadata": {},
   "outputs": [
    {
     "name": "stdout",
     "output_type": "stream",
     "text": [
      "(1, 2, 3, 4)\n",
      "(1, 2, 1, 2, 1, 2)\n"
     ]
    }
   ],
   "source": [
    "# Concatenation & repetition\n",
    "t1 = (1, 2)\n",
    "t2 = (3, 4)\n",
    "print(t1 + t2)       # concatenation\n",
    "print(t1 * 3)        # repetition\n"
   ]
  },
  {
   "cell_type": "code",
   "execution_count": 18,
   "id": "3f4e7450",
   "metadata": {},
   "outputs": [
    {
     "name": "stdout",
     "output_type": "stream",
     "text": [
      "True\n",
      "True\n"
     ]
    }
   ],
   "source": [
    "# Membership\n",
    "print(10 in tup)      # True\n",
    "print(99 not in tup)  # True\n"
   ]
  },
  {
   "cell_type": "code",
   "execution_count": 19,
   "id": "224fa629",
   "metadata": {},
   "outputs": [
    {
     "name": "stdout",
     "output_type": "stream",
     "text": [
      "1\n",
      "9\n",
      "17\n",
      "True\n",
      "True\n"
     ]
    }
   ],
   "source": [
    "# Aggregate functions\n",
    "nums = (5, 2, 9, 1)\n",
    "print(min(nums))\n",
    "print(max(nums))\n",
    "print(sum(nums))\n",
    "print(any(nums))   # True if any element truthy\n",
    "print(all(nums))   # True if all elements truthy (0 makes it False)\n"
   ]
  },
  {
   "cell_type": "code",
   "execution_count": 20,
   "id": "d8942918",
   "metadata": {},
   "outputs": [
    {
     "name": "stdout",
     "output_type": "stream",
     "text": [
      "(1, 2, 3)\n",
      "('h', 'e', 'l', 'l', 'o')\n"
     ]
    }
   ],
   "source": [
    "# Tuple constructor\n",
    "print(tuple([1, 2, 3]))       # from list\n",
    "print(tuple(\"hello\"))         # from string\n"
   ]
  },
  {
   "cell_type": "code",
   "execution_count": 21,
   "id": "1105ea63",
   "metadata": {},
   "outputs": [
    {
     "name": "stdout",
     "output_type": "stream",
     "text": [
      "100 200 300\n",
      "2\n"
     ]
    }
   ],
   "source": [
    "# Tuple unpacking\n",
    "a, b, c = (100, 200, 300)\n",
    "print(a, b, c)\n",
    "\n",
    "# Nested tuple\n",
    "nested = (1, (2, 3), (4, 5))\n",
    "print(nested[1][0])   # accessing inside\n"
   ]
  },
  {
   "cell_type": "code",
   "execution_count": 22,
   "id": "6d834a43",
   "metadata": {},
   "outputs": [
    {
     "name": "stdout",
     "output_type": "stream",
     "text": [
      "(2, 4, 6, 1, 4, 7, 9, 3)\n",
      "[2, 4, 6, 1, 4, 7, 9, 3]\n"
     ]
    }
   ],
   "source": [
    "# Typecasting\n",
    "tuple1 = (2,4,6,1,4,7,9,3)\n",
    "print(tuple1)\n",
    "print(list(tuple1))"
   ]
  },
  {
   "cell_type": "code",
   "execution_count": null,
   "id": "d0bd635e",
   "metadata": {},
   "outputs": [],
   "source": []
  }
 ],
 "metadata": {
  "kernelspec": {
   "display_name": "Python 3",
   "language": "python",
   "name": "python3"
  },
  "language_info": {
   "codemirror_mode": {
    "name": "ipython",
    "version": 3
   },
   "file_extension": ".py",
   "mimetype": "text/x-python",
   "name": "python",
   "nbconvert_exporter": "python",
   "pygments_lexer": "ipython3",
   "version": "3.13.7"
  }
 },
 "nbformat": 4,
 "nbformat_minor": 5
}
