{
 "cells": [
  {
   "cell_type": "markdown",
   "id": "e04ec113",
   "metadata": {},
   "source": [
    "# *List*\n",
    "- In python, Lists allow us to store multiple items in a single variable. For example, if you need to store the ages of all the students in a class, you can do this using a list.\n",
    "\n",
    "- Lists are similar to arrays (Dynamic arrays that allow us to store items of different data types) in other programming languages."
   ]
  },
  {
   "cell_type": "code",
   "execution_count": 3,
   "id": "4d4063b4",
   "metadata": {},
   "outputs": [
    {
     "name": "stdout",
     "output_type": "stream",
     "text": [
      "Pragati\n"
     ]
    },
    {
     "data": {
      "text/plain": [
       "str"
      ]
     },
     "execution_count": 3,
     "metadata": {},
     "output_type": "execute_result"
    }
   ],
   "source": [
    "name = \"Pragati\"\n",
    "print(name)\n",
    "type(name)"
   ]
  },
  {
   "cell_type": "code",
   "execution_count": 4,
   "id": "1be0ca99",
   "metadata": {},
   "outputs": [
    {
     "name": "stdout",
     "output_type": "stream",
     "text": [
      "['Pragati', 'Liza', 'Nova']\n"
     ]
    },
    {
     "data": {
      "text/plain": [
       "list"
      ]
     },
     "execution_count": 4,
     "metadata": {},
     "output_type": "execute_result"
    }
   ],
   "source": [
    "name = [\"Pragati\", \"Liza\", \"Nova\"]\n",
    "print(name)\n",
    "type(name)"
   ]
  },
  {
   "cell_type": "markdown",
   "id": "bfd65aa1",
   "metadata": {},
   "source": [
    "## List Characteristics\n",
    "\n",
    "In Python, lists are:\n",
    "\n",
    "- *Ordered* : They maintain the order of the elements.\n",
    "- *Mutable* : Items can be changed after creation.\n",
    "- *Allow Duplicates* : They can contain duplicate values."
   ]
  },
  {
   "cell_type": "markdown",
   "id": "3327e12c",
   "metadata": {},
   "source": [
    "# Indexing\n",
    "\n",
    "- **Indexing** is the process of accessing individual elements from **sequences** like strings, lists, or tuples.  \n",
    "- Python uses **zero-based indexing**, meaning the first element has index **0**.  \n"
   ]
  },
  {
   "cell_type": "markdown",
   "id": "15f330d1",
   "metadata": {},
   "source": [
    "- **List Indexing in Python**\n",
    "    - **Lists** are ordered collections in Python.  \n",
    "    - Each element in a list can be accessed using its **index**.  \n",
    "    - Python uses **zero-based indexing** (first element → index 0).  \n",
    "    - **Negative indexing** starts from the end (-1 is the last element).  \n",
    "\n",
    "- **Key Points:**\n",
    "    - Positive index: Count from the start (0, 1, 2 …).\n",
    "\n",
    "    - Negative index: Count from the end (-1, -2, -3 …).\n",
    "\n",
    "    - Slicing: [start:stop] gives elements from start to stop-1.\n",
    "\n",
    "    - Lists are mutable, so you can also change elements using indexing:"
   ]
  },
  {
   "cell_type": "markdown",
   "id": "c977b414",
   "metadata": {},
   "source": []
  },
  {
   "cell_type": "code",
   "execution_count": 5,
   "id": "8259546b",
   "metadata": {},
   "outputs": [],
   "source": [
    "# Define a list\n",
    "fruits = ['Apple', 'Banana', 'Cherry', 'Date', 'Elderberry']"
   ]
  },
  {
   "cell_type": "code",
   "execution_count": 6,
   "id": "923521bb",
   "metadata": {},
   "outputs": [
    {
     "name": "stdout",
     "output_type": "stream",
     "text": [
      "Apple\n",
      "Cherry\n"
     ]
    }
   ],
   "source": [
    "# Accessing elements using positive index\n",
    "print(fruits[0])  # First element → 'Apple'\n",
    "print(fruits[2])  # Third element → 'Cherry'"
   ]
  },
  {
   "cell_type": "code",
   "execution_count": 7,
   "id": "79b5355d",
   "metadata": {},
   "outputs": [
    {
     "name": "stdout",
     "output_type": "stream",
     "text": [
      "Elderberry\n",
      "Cherry\n"
     ]
    }
   ],
   "source": [
    "# Accessing elements using negative index\n",
    "print(fruits[-1])  # Last element → 'Elderberry'\n",
    "print(fruits[-3])  # Third from last → 'Cherry'"
   ]
  },
  {
   "cell_type": "code",
   "execution_count": 8,
   "id": "2d09175c",
   "metadata": {},
   "outputs": [
    {
     "name": "stdout",
     "output_type": "stream",
     "text": [
      "['Apple', 'Blueberry', 'Cherry', 'Date', 'Elderberry']\n"
     ]
    }
   ],
   "source": [
    "fruits[1] = 'Blueberry'\n",
    "print(fruits)"
   ]
  },
  {
   "cell_type": "markdown",
   "id": "4c2d648a",
   "metadata": {},
   "source": [
    "# Operations on list"
   ]
  },
  {
   "cell_type": "markdown",
   "id": "3b326c1b",
   "metadata": {},
   "source": [
    "All List Operations in Python\n",
    "\n",
    "| Operation | Description |\n",
    "|-----------|-------------|\n",
    "| `len(list)` | Returns number of elements in list |\n",
    "| `list[index]` | Access element at given index |\n",
    "| `list[start:end]` | Slice list (end not included) |\n",
    "| `list.append(x)` | Adds an element at the end |\n",
    "| `list.insert(i, x)` | Inserts element at given index |\n",
    "| `list.extend(iterable)` | Appends all elements of iterable to list |\n",
    "| `list.remove(x)` | Removes first occurrence of value `x` |\n",
    "| `list.pop([i])` | Removes element at index `i` (default last) |\n",
    "| `list.clear()` | Removes all elements |\n",
    "| `list.index(x)` | Returns index of first occurrence of value `x` |\n",
    "| `list.count(x)` | Returns number of times value `x` appears |\n",
    "| `list.sort()` | Sorts list in ascending order (in-place) |\n",
    "| `list.sort(reverse=True)` | Sorts list in descending order |\n",
    "| `sorted(list)` | Returns new sorted list (does not modify original) |\n",
    "| `list.reverse()` | Reverses list in place |\n",
    "| `reversed(list)` | Returns iterator that reverses the list |\n",
    "| `min(list)` | Returns smallest element |\n",
    "| `max(list)` | Returns largest element |\n",
    "| `sum(list)` | Returns sum of numeric elements |\n",
    "| `any(list)` | Returns True if any element is truthy |\n",
    "| `all(list)` | Returns True if all elements are truthy |\n",
    "| `copy()` | Returns shallow copy of list |\n",
    "| List Comprehension `[x for x in list]` | Creates a new list using condition/logic |\n"
   ]
  },
  {
   "cell_type": "code",
   "execution_count": 56,
   "id": "5f209833",
   "metadata": {},
   "outputs": [
    {
     "name": "stdout",
     "output_type": "stream",
     "text": [
      "6\n",
      "5\n",
      "6\n",
      "[2, 9, 1]\n"
     ]
    }
   ],
   "source": [
    "# Basic list\n",
    "nums = [5, 2, 9, 1, 5, 6]\n",
    "words = [\"apple\", \"banana\", \"cherry\"]\n",
    "\n",
    "# Length & indexing\n",
    "print(len(nums))\n",
    "print(nums[0])    # first element\n",
    "print(nums[-1])   # last element\n",
    "print(nums[1:4])  # slicing\n"
   ]
  },
  {
   "cell_type": "code",
   "execution_count": 57,
   "id": "da8ab349",
   "metadata": {},
   "outputs": [
    {
     "name": "stdout",
     "output_type": "stream",
     "text": [
      "[5, 2, 9, 1, 5, 6, 10]\n",
      "[5, 2, 99, 9, 1, 5, 6, 10]\n",
      "[5, 2, 99, 9, 1, 5, 6, 10, 7, 8]\n"
     ]
    }
   ],
   "source": [
    "# Adding elements\n",
    "nums.append(10)\n",
    "print(nums)\n",
    "\n",
    "nums.insert(2, 99)\n",
    "print(nums)\n",
    "\n",
    "nums.extend([7, 8])\n",
    "print(nums)\n"
   ]
  },
  {
   "cell_type": "code",
   "execution_count": 58,
   "id": "e67f5eb0",
   "metadata": {},
   "outputs": [
    {
     "name": "stdout",
     "output_type": "stream",
     "text": [
      "[2, 99, 9, 1, 5, 6, 10, 7, 8]\n",
      "8\n",
      "[2, 99, 9, 1, 5, 6, 10, 7]\n",
      "99\n",
      "[2, 9, 1, 5, 6, 10, 7]\n",
      "[]\n"
     ]
    }
   ],
   "source": [
    "# Removing elements\n",
    "nums.remove(5)     # remove first 5\n",
    "print(nums)\n",
    "\n",
    "print(nums.pop())   # pop last\n",
    "print(nums)\n",
    "\n",
    "print(nums.pop(1))  # pop index 1\n",
    "print(nums)\n",
    "\n",
    "nums.clear()\n",
    "print(nums)\n"
   ]
  },
  {
   "cell_type": "code",
   "execution_count": 59,
   "id": "f22f1741",
   "metadata": {},
   "outputs": [],
   "source": [
    "nums = [5, 2, 9, 1, 5, 6]\n"
   ]
  },
  {
   "cell_type": "code",
   "execution_count": 60,
   "id": "3d5958d5",
   "metadata": {},
   "outputs": [
    {
     "name": "stdout",
     "output_type": "stream",
     "text": [
      "2\n",
      "2\n"
     ]
    }
   ],
   "source": [
    "# Searching\n",
    "print(nums.index(9))   # index of 9\n",
    "print(nums.count(5))   # count of 5\n"
   ]
  },
  {
   "cell_type": "code",
   "execution_count": 61,
   "id": "a5ac8da5",
   "metadata": {},
   "outputs": [
    {
     "name": "stdout",
     "output_type": "stream",
     "text": [
      "[1, 2, 5, 5, 6, 9]\n",
      "[9, 6, 5, 5, 2, 1]\n",
      "[1, 2, 5, 5, 6, 9]\n",
      "[1, 2, 5, 5, 6, 9]\n"
     ]
    }
   ],
   "source": [
    "# Sorting & reversing\n",
    "nums.sort()\n",
    "print(nums)\n",
    "\n",
    "nums.sort(reverse=True)\n",
    "print(nums)\n",
    "\n",
    "print(sorted(nums))    # sorted copy\n",
    "\n",
    "nums.reverse()\n",
    "print(nums)\n"
   ]
  },
  {
   "cell_type": "code",
   "execution_count": 62,
   "id": "25bc57af",
   "metadata": {},
   "outputs": [
    {
     "name": "stdout",
     "output_type": "stream",
     "text": [
      "1\n",
      "9\n",
      "28\n",
      "True\n",
      "True\n"
     ]
    }
   ],
   "source": [
    "# Aggregate functions\n",
    "print(min(nums))\n",
    "print(max(nums))\n",
    "print(sum(nums))\n",
    "print(any([0, \"\", 3]))  # True (3 is truthy)\n",
    "print(all([1, 2, 3]))   # True\n"
   ]
  },
  {
   "cell_type": "code",
   "execution_count": 63,
   "id": "3ce45ceb",
   "metadata": {},
   "outputs": [
    {
     "name": "stdout",
     "output_type": "stream",
     "text": [
      "[0, 1, 4, 9, 16]\n",
      "[0, 2, 4, 6, 8]\n"
     ]
    }
   ],
   "source": [
    "# List comprehension\n",
    "squares = [x**2 for x in range(5)]\n",
    "print(squares)\n",
    "\n",
    "evens = [x for x in range(10) if x % 2 == 0]\n",
    "print(evens)\n"
   ]
  },
  {
   "cell_type": "markdown",
   "id": "96b8a3c0",
   "metadata": {},
   "source": [
    "`remove()` & `pop()` \n",
    "Used to remove elements from the list \n",
    "- remove() specific element\n",
    "- pop() specific index"
   ]
  },
  {
   "cell_type": "code",
   "execution_count": 4,
   "id": "ec46fc2c",
   "metadata": {},
   "outputs": [
    {
     "data": {
      "text/plain": [
       "[32, 56, 13, 90, 12]"
      ]
     },
     "execution_count": 4,
     "metadata": {},
     "output_type": "execute_result"
    }
   ],
   "source": [
    "list1 = [32,56,13,90,12]\n",
    "list1"
   ]
  },
  {
   "cell_type": "code",
   "execution_count": 5,
   "id": "7d1b407f",
   "metadata": {},
   "outputs": [
    {
     "data": {
      "text/plain": [
       "[32, 56, 90, 12]"
      ]
     },
     "execution_count": 5,
     "metadata": {},
     "output_type": "execute_result"
    }
   ],
   "source": [
    "list1.remove(13)    #remove element 13\n",
    "list1"
   ]
  },
  {
   "cell_type": "code",
   "execution_count": 6,
   "id": "6be430d6",
   "metadata": {},
   "outputs": [
    {
     "data": {
      "text/plain": [
       "[32, 56, 90]"
      ]
     },
     "execution_count": 6,
     "metadata": {},
     "output_type": "execute_result"
    }
   ],
   "source": [
    "list1.pop()  #by default remove last index element\n",
    "list1"
   ]
  },
  {
   "cell_type": "code",
   "execution_count": 7,
   "id": "61c07e51",
   "metadata": {},
   "outputs": [
    {
     "data": {
      "text/plain": [
       "56"
      ]
     },
     "execution_count": 7,
     "metadata": {},
     "output_type": "execute_result"
    }
   ],
   "source": [
    "list1.pop(1)"
   ]
  },
  {
   "cell_type": "code",
   "execution_count": 8,
   "id": "1b840e83",
   "metadata": {},
   "outputs": [
    {
     "data": {
      "text/plain": [
       "[32, 90]"
      ]
     },
     "execution_count": 8,
     "metadata": {},
     "output_type": "execute_result"
    }
   ],
   "source": [
    "list1"
   ]
  },
  {
   "cell_type": "markdown",
   "id": "c3bdc3dc",
   "metadata": {},
   "source": [
    "`deep copy` : Copy the whole variable and memory location will be same for both"
   ]
  },
  {
   "cell_type": "code",
   "execution_count": 36,
   "id": "632e329f",
   "metadata": {},
   "outputs": [
    {
     "name": "stdout",
     "output_type": "stream",
     "text": [
      "[1, 2, 3, 4] 1791984437120\n",
      "[1, 2, 3, 4] 1791984437120\n"
     ]
    }
   ],
   "source": [
    "list1 = [1,2,3]\n",
    "list2 = list1  # both list1 & list2 store in same memory and changes happen in both\n",
    "\n",
    "list2.append(4)\n",
    "\n",
    "print(list1, id(list1))\n",
    "print(list2, id(list2))"
   ]
  },
  {
   "cell_type": "markdown",
   "id": "3f71f2d3",
   "metadata": {},
   "source": [
    "`shallow copy` : Only copy the value and store in another memory location"
   ]
  },
  {
   "cell_type": "code",
   "execution_count": 37,
   "id": "e07ba567",
   "metadata": {},
   "outputs": [
    {
     "name": "stdout",
     "output_type": "stream",
     "text": [
      "[1, 2, 3] 1791983307648\n",
      "[1, 2, 3, 4] 1791984882432\n"
     ]
    }
   ],
   "source": [
    "list1 = [1,2,3]\n",
    "list2 = list1.copy()  # both list1 & list2 will not store in same memory\n",
    "\n",
    "list2.append(4)  # changes only in list2\n",
    "\n",
    "print(list1, id(list1))\n",
    "print(list2, id(list2))"
   ]
  },
  {
   "cell_type": "markdown",
   "id": "a9aa1395",
   "metadata": {},
   "source": [
    "### SubArray & Sub sequence\n",
    "\n",
    "*Subarray* : Continuous part of any array\n",
    "\n",
    "- list = [1,4,2,7,4,8,5]\n",
    "- sub array can be [1,4,2], [4,2,7], [7,4,8,5,], [7,4], etc\n",
    "\n",
    "*Subsequence* : Non continuous part of an array\n",
    "\n",
    "- list = [1,4,2,7,4,8,5]\n",
    "- subsequence can be [1,2,8], [4,4,5], [7,8,5] \n",
    "- order must be same\n"
   ]
  },
  {
   "cell_type": "markdown",
   "id": "9e9f82c1",
   "metadata": {},
   "source": [
    "## Slicing\n",
    "\n",
    "list[x : y : z]\n",
    "\n",
    "- x : start from at index x\n",
    "- y : end at index y\n",
    "- z : skip y number of index"
   ]
  },
  {
   "cell_type": "code",
   "execution_count": 44,
   "id": "39afa50d",
   "metadata": {},
   "outputs": [
    {
     "name": "stdout",
     "output_type": "stream",
     "text": [
      "[1, 5, 2, 2]\n",
      "[1, 2, 4]\n",
      "[4, 1, 5, 2, 2, 4, 1, 6, 3, 4, 5, 1, 3, 2]\n",
      "[4, 2, 1, 4, 3]\n",
      "[1, 2, 6, 1]\n"
     ]
    }
   ],
   "source": [
    "list1 = [1,4,1,5,2,2,4,1,6,3,4,5,1,3,2]\n",
    "\n",
    "print(list1[2:6]) # start from index 2, end at index 6 \n",
    "print(list1[2:8:2])  # start from index 2, end at index 8, step 2 element\n",
    "print(list1[1::]) # start from index 1 go to last (no end point), without step\n",
    "print(list1[1::3]) # start from index 1 go to last(no end point), step 3 elements\n",
    "print(list1[::4]) # start from index 0 go to last step 4 elements"
   ]
  },
  {
   "cell_type": "markdown",
   "id": "b4bdcebb",
   "metadata": {},
   "source": [
    "*Negative Slicing*\n",
    "\n",
    "start from the last of the list"
   ]
  },
  {
   "cell_type": "code",
   "execution_count": 55,
   "id": "d11c7055",
   "metadata": {},
   "outputs": [
    {
     "name": "stdout",
     "output_type": "stream",
     "text": [
      "[1, 4, 1, 5, 2, 2, 4, 1, 6, 3, 4, 5, 1, 3, 2]\n",
      "[2, 3, 1, 5, 4, 3, 6, 1, 4, 2, 2, 5, 1, 4, 1]\n",
      "[2, 3]\n"
     ]
    }
   ],
   "source": [
    "print(list1)\n",
    "print(list1[::-1])  # reverse the list\n",
    "print(list1[:-3:-1]) # start from last -1 index and go to index -2 (-3 index excluded)"
   ]
  },
  {
   "cell_type": "code",
   "execution_count": null,
   "id": "caa6ff06",
   "metadata": {},
   "outputs": [],
   "source": []
  }
 ],
 "metadata": {
  "kernelspec": {
   "display_name": "Python 3",
   "language": "python",
   "name": "python3"
  },
  "language_info": {
   "codemirror_mode": {
    "name": "ipython",
    "version": 3
   },
   "file_extension": ".py",
   "mimetype": "text/x-python",
   "name": "python",
   "nbconvert_exporter": "python",
   "pygments_lexer": "ipython3",
   "version": "3.13.7"
  }
 },
 "nbformat": 4,
 "nbformat_minor": 5
}
