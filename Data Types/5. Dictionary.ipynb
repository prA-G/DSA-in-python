{
 "cells": [
  {
   "cell_type": "markdown",
   "id": "821c27a2",
   "metadata": {},
   "source": [
    "# *DICTIONARY*"
   ]
  },
  {
   "cell_type": "markdown",
   "id": "866b08a0",
   "metadata": {},
   "source": [
    "*A python dictionary is a collection of items, similar to lists and tuples. However, unlike lists and tuples, each item in a dictionary is a key-value pair (consisting of a key and a value).*"
   ]
  },
  {
   "cell_type": "markdown",
   "id": "0fd5b78c",
   "metadata": {},
   "source": [
    "- A dictionary in Python is a collection of key-value pairs.\n",
    "- Keys : must be unique & immutable (like strings, numbers, tuples).\n",
    "- Values : can be of any data type (int, str, list, dict, etc.).\n",
    "- It’s like a real dictionary: you look up a word (key) to get its meaning (value)."
   ]
  },
  {
   "cell_type": "markdown",
   "id": "556995d0",
   "metadata": {},
   "source": [
    "## Dictionary Operation in python\n",
    "\n",
    "| Operation | Description | Example |\n",
    "|-----------|-------------|---------|\n",
    "| `dict = {}` | Create empty dictionary | `my_dict = {}` |\n",
    "| `dict = {\"a\":1, \"b\":2}` | Create with key-value pairs | `my_dict = {\"a\":1, \"b\":2}` |\n",
    "| `dict[key]` | Access value by key | `my_dict[\"a\"]  # 1` |\n",
    "| `dict.get(key, default)` | Access safely with default value | `my_dict.get(\"c\", \"Not Found\")  # Not Found` |\n",
    "| `dict[key] = value` | Add or update a key-value pair | `my_dict[\"c\"] = 3` |\n",
    "| `dict.update({...})` | Update multiple key-value pairs | `my_dict.update({\"d\":4, \"e\":5})` |\n",
    "| `dict.pop(key)` | Remove key and return value | `my_dict.pop(\"a\")` |\n",
    "| `dict.popitem()` | Remove and return last inserted pair | `my_dict.popitem()` |\n",
    "| `del dict[key]` | Delete a key-value pair | `del my_dict[\"b\"]` |\n",
    "| `dict.clear()` | Remove all items | `my_dict.clear()` |\n",
    "| `dict.copy()` | Return a shallow copy | `copy_dict = my_dict.copy()` |\n",
    "| `dict.keys()` | Get all keys | `my_dict.keys()` → `dict_keys(['a','b'])` |\n",
    "| `dict.values()` | Get all values | `my_dict.values()` → `dict_values([1,2])` |\n",
    "| `dict.items()` | Get all key-value pairs | `my_dict.items()` → `dict_items([('a',1),('b',2)])` |\n",
    "| `key in dict` | Check if key exists | `'a' in my_dict  # True` |\n",
    "| `for k in dict:` | Iterate over keys | `for k in my_dict: print(k)` |\n",
    "| `for k,v in dict.items()` | Iterate over key-value pairs | `for k,v in my_dict.items(): print(k,v)` |\n",
    "| `{k:v for k,v in ...}` | Dictionary comprehension | `{x: x**2 for x in range(3)}` → `{0:0,1:1,2:4}` |\n"
   ]
  },
  {
   "cell_type": "markdown",
   "id": "ac167fa5",
   "metadata": {},
   "source": []
  }
 ],
 "metadata": {
  "language_info": {
   "name": "python"
  }
 },
 "nbformat": 4,
 "nbformat_minor": 5
}
