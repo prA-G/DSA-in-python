{
 "cells": [
  {
   "cell_type": "markdown",
   "id": "821c27a2",
   "metadata": {},
   "source": [
    "# *DICTIONARY*"
   ]
  },
  {
   "cell_type": "markdown",
   "id": "1446428e",
   "metadata": {},
   "source": [
    "AKA Map, Hash Map"
   ]
  },
  {
   "cell_type": "markdown",
   "id": "866b08a0",
   "metadata": {},
   "source": [
    "*A python dictionary is a collection of items, similar to lists and tuples. However, unlike lists and tuples, each item in a dictionary is a key-value pair (consisting of a key and a value).*"
   ]
  },
  {
   "cell_type": "markdown",
   "id": "0fd5b78c",
   "metadata": {},
   "source": [
    "- A dictionary in Python is a collection of key-value pairs.\n",
    "- Keys : must be unique & immutable (like strings, numbers, tuples).\n",
    "- Values : can be of any data type (int, str, list, dict, etc.).\n",
    "- It’s like a real dictionary: you look up a word (key) to get its meaning (value)."
   ]
  },
  {
   "cell_type": "markdown",
   "id": "556995d0",
   "metadata": {},
   "source": [
    "## Dictionary Operation in python\n",
    "\n",
    "| Operation | Description | Example |\n",
    "|-----------|-------------|---------|\n",
    "| `dict = {}` | Create empty dictionary | `my_dict = {}` |\n",
    "| `dict = {\"a\":1, \"b\":2}` | Create with key-value pairs | `my_dict = {\"a\":1, \"b\":2}` |\n",
    "| `dict[key]` | Access value by key | `my_dict[\"a\"]  # 1` |\n",
    "| `dict.get(key, default)` | Access safely with default value | `my_dict.get(\"c\", \"Not Found\")  # Not Found` |\n",
    "| `dict[key] = value` | Add or update a key-value pair | `my_dict[\"c\"] = 3` |\n",
    "| `dict.update({...})` | Update multiple key-value pairs | `my_dict.update({\"d\":4, \"e\":5})` |\n",
    "| `dict.pop(key)` | Remove key and return value | `my_dict.pop(\"a\")` |\n",
    "| `dict.popitem()` | Remove and return last inserted pair | `my_dict.popitem()` |\n",
    "| `del dict[key]` | Delete a key-value pair | `del my_dict[\"b\"]` |\n",
    "| `dict.clear()` | Remove all items | `my_dict.clear()` |\n",
    "| `dict.copy()` | Return a shallow copy | `copy_dict = my_dict.copy()` |\n",
    "| `dict.keys()` | Get all keys | `my_dict.keys()` → `dict_keys(['a','b'])` |\n",
    "| `dict.values()` | Get all values | `my_dict.values()` → `dict_values([1,2])` |\n",
    "| `dict.items()` | Get all key-value pairs | `my_dict.items()` → `dict_items([('a',1),('b',2)])` |\n",
    "| `key in dict` | Check if key exists | `'a' in my_dict  # True` |\n",
    "| `for k in dict:` | Iterate over keys | `for k in my_dict: print(k)` |\n",
    "| `for k,v in dict.items()` | Iterate over key-value pairs | `for k,v in my_dict.items(): print(k,v)` |\n",
    "| `{k:v for k,v in ...}` | Dictionary comprehension | `{x: x**2 for x in range(3)}` → `{0:0,1:1,2:4}` |\n"
   ]
  },
  {
   "cell_type": "code",
   "execution_count": 1,
   "id": "a8b685a9",
   "metadata": {},
   "outputs": [
    {
     "name": "stdout",
     "output_type": "stream",
     "text": [
      "<class 'dict'>\n"
     ]
    }
   ],
   "source": [
    "x = {}\n",
    "print(type(x))"
   ]
  },
  {
   "cell_type": "code",
   "execution_count": 2,
   "id": "4f5ae0ba",
   "metadata": {},
   "outputs": [
    {
     "name": "stdout",
     "output_type": "stream",
     "text": [
      "<class 'set'>\n"
     ]
    }
   ],
   "source": [
    "x = {2,4,6,7}\n",
    "print(type(x))"
   ]
  },
  {
   "cell_type": "code",
   "execution_count": 3,
   "id": "65dd63ec",
   "metadata": {},
   "outputs": [
    {
     "data": {
      "text/plain": [
       "{1: 'Prag', 2: 'Anu', 'place': 'GKP', 10.1: 'Love'}"
      ]
     },
     "execution_count": 3,
     "metadata": {},
     "output_type": "execute_result"
    }
   ],
   "source": [
    "dict1 = {1: \"Prag\", 2: \"Anu\", \"place\":\"GKP\", 10.1: \"Love\"}\n",
    "dict1"
   ]
  },
  {
   "cell_type": "code",
   "execution_count": 4,
   "id": "0b5b1d6b",
   "metadata": {},
   "outputs": [
    {
     "data": {
      "text/plain": [
       "dict"
      ]
     },
     "execution_count": 4,
     "metadata": {},
     "output_type": "execute_result"
    }
   ],
   "source": [
    "type(dict1)"
   ]
  },
  {
   "cell_type": "code",
   "execution_count": 5,
   "id": "a7380ea9",
   "metadata": {},
   "outputs": [
    {
     "data": {
      "text/plain": [
       "4"
      ]
     },
     "execution_count": 5,
     "metadata": {},
     "output_type": "execute_result"
    }
   ],
   "source": [
    "len(dict1)"
   ]
  },
  {
   "cell_type": "code",
   "execution_count": 6,
   "id": "8efd4f4d",
   "metadata": {},
   "outputs": [
    {
     "name": "stdout",
     "output_type": "stream",
     "text": [
      "Original dict: {'name': 'Pragu', 'age': 24, 'course': 'DS'}\n",
      "Name: Pragu\n"
     ]
    }
   ],
   "source": [
    "# Creating dictionaries\n",
    "student = {\"name\": \"Pragu\", \"age\": 24, \"course\": \"DS\"}\n",
    "print(\"Original dict:\", student)\n",
    "\n",
    "# 1. Access value by key\n",
    "print(\"Name:\", student[\"name\"])\n"
   ]
  },
  {
   "cell_type": "code",
   "execution_count": 7,
   "id": "bf6639b6",
   "metadata": {},
   "outputs": [
    {
     "name": "stdout",
     "output_type": "stream",
     "text": [
      "Grade (not exist): Not Found\n"
     ]
    }
   ],
   "source": [
    "# 2. Access safely with default\n",
    "print(\"Grade (not exist):\", student.get(\"grade\", \"Not Found\"))"
   ]
  },
  {
   "cell_type": "code",
   "execution_count": 8,
   "id": "a89f0116",
   "metadata": {},
   "outputs": [
    {
     "name": "stdout",
     "output_type": "stream",
     "text": [
      "After update/add: {'name': 'Pragu', 'age': 25, 'course': 'DS', 'city': 'Delhi'}\n"
     ]
    }
   ],
   "source": [
    "# 3. Add or update key-value\n",
    "student[\"age\"] = 25\n",
    "student[\"city\"] = \"Delhi\"\n",
    "print(\"After update/add:\", student)"
   ]
  },
  {
   "cell_type": "code",
   "execution_count": 9,
   "id": "36b841c5",
   "metadata": {},
   "outputs": [
    {
     "name": "stdout",
     "output_type": "stream",
     "text": [
      "After bulk update: {'name': 'Pragu', 'age': 25, 'course': 'Data Science', 'city': 'Delhi', 'skills': ['Python', 'ML']}\n"
     ]
    }
   ],
   "source": [
    "# 4. Update multiple key-value pairs\n",
    "student.update({\"course\": \"Data Science\", \"skills\": [\"Python\", \"ML\"]})\n",
    "print(\"After bulk update:\", student)"
   ]
  },
  {
   "cell_type": "code",
   "execution_count": 10,
   "id": "91fa4f9f",
   "metadata": {},
   "outputs": [
    {
     "name": "stdout",
     "output_type": "stream",
     "text": [
      "Removed city: Delhi\n",
      "After pop: {'name': 'Pragu', 'age': 25, 'course': 'Data Science', 'skills': ['Python', 'ML']}\n"
     ]
    }
   ],
   "source": [
    "# 5. Remove key and return value\n",
    "removed = student.pop(\"city\")\n",
    "print(\"Removed city:\", removed)\n",
    "print(\"After pop:\", student)"
   ]
  },
  {
   "cell_type": "code",
   "execution_count": 11,
   "id": "4f2447a8",
   "metadata": {},
   "outputs": [
    {
     "name": "stdout",
     "output_type": "stream",
     "text": [
      "Removed last item: ('skills', ['Python', 'ML'])\n",
      "After popitem: {'name': 'Pragu', 'age': 25, 'course': 'Data Science'}\n"
     ]
    }
   ],
   "source": [
    "# 6. Remove last inserted pair\n",
    "last = student.popitem()\n",
    "print(\"Removed last item:\", last)\n",
    "print(\"After popitem:\", student)"
   ]
  },
  {
   "cell_type": "code",
   "execution_count": 12,
   "id": "1c90a633",
   "metadata": {},
   "outputs": [
    {
     "name": "stdout",
     "output_type": "stream",
     "text": [
      "After del: {'name': 'Pragu', 'course': 'Data Science'}\n"
     ]
    }
   ],
   "source": [
    "# 7. Delete using del\n",
    "del student[\"age\"]\n",
    "print(\"After del:\", student)"
   ]
  },
  {
   "cell_type": "code",
   "execution_count": 13,
   "id": "1ed3ddc5",
   "metadata": {},
   "outputs": [
    {
     "name": "stdout",
     "output_type": "stream",
     "text": [
      "After clear: {}\n"
     ]
    }
   ],
   "source": [
    "# 8. Clear dictionary\n",
    "temp = {\"x\": 1, \"y\": 2}\n",
    "temp.clear()\n",
    "print(\"After clear:\", temp)"
   ]
  },
  {
   "cell_type": "code",
   "execution_count": 14,
   "id": "09be400d",
   "metadata": {},
   "outputs": [
    {
     "name": "stdout",
     "output_type": "stream",
     "text": [
      "Copy: {'name': 'Pragu', 'course': 'Data Science'}\n"
     ]
    }
   ],
   "source": [
    "# 9. Copy dictionary\n",
    "copy_dict = student.copy()\n",
    "print(\"Copy:\", copy_dict)"
   ]
  },
  {
   "cell_type": "code",
   "execution_count": 15,
   "id": "a80fe84c",
   "metadata": {},
   "outputs": [
    {
     "name": "stdout",
     "output_type": "stream",
     "text": [
      "Keys: dict_keys(['name', 'course'])\n"
     ]
    }
   ],
   "source": [
    "# 10. Get all keys\n",
    "print(\"Keys:\", student.keys())"
   ]
  },
  {
   "cell_type": "code",
   "execution_count": 16,
   "id": "bc8deafe",
   "metadata": {},
   "outputs": [
    {
     "name": "stdout",
     "output_type": "stream",
     "text": [
      "Values: dict_values(['Pragu', 'Data Science'])\n"
     ]
    }
   ],
   "source": [
    "# 11. Get all values\n",
    "print(\"Values:\", student.values())"
   ]
  },
  {
   "cell_type": "code",
   "execution_count": 17,
   "id": "3ece8536",
   "metadata": {},
   "outputs": [
    {
     "name": "stdout",
     "output_type": "stream",
     "text": [
      "Items: dict_items([('name', 'Pragu'), ('course', 'Data Science')])\n"
     ]
    }
   ],
   "source": [
    "# 12. Get all key-value pairs\n",
    "print(\"Items:\", student.items())"
   ]
  },
  {
   "cell_type": "code",
   "execution_count": 18,
   "id": "d9af0726",
   "metadata": {},
   "outputs": [
    {
     "name": "stdout",
     "output_type": "stream",
     "text": [
      "Is 'name' present? True\n"
     ]
    }
   ],
   "source": [
    "# 13. Check if key exists\n",
    "print(\"Is 'name' present?\", \"name\" in student)"
   ]
  },
  {
   "cell_type": "code",
   "execution_count": 19,
   "id": "10222c6a",
   "metadata": {},
   "outputs": [
    {
     "name": "stdout",
     "output_type": "stream",
     "text": [
      "Iterating keys:\n",
      "name\n",
      "course\n"
     ]
    }
   ],
   "source": [
    "# 14. Iterate keys\n",
    "print(\"Iterating keys:\")\n",
    "for k in student:\n",
    "    print(k)"
   ]
  },
  {
   "cell_type": "code",
   "execution_count": 21,
   "id": "353d30c3",
   "metadata": {},
   "outputs": [
    {
     "name": "stdout",
     "output_type": "stream",
     "text": [
      "Iterating key-value pairs:\n",
      "name : Pragu\n",
      "course : Data Science\n"
     ]
    }
   ],
   "source": [
    "# 15. Iterate key-value pairs\n",
    "print(\"Iterating key-value pairs:\")\n",
    "for k, v in student.items():\n",
    "    print(k, \":\", v)"
   ]
  },
  {
   "cell_type": "code",
   "execution_count": 22,
   "id": "f198e61f",
   "metadata": {},
   "outputs": [
    {
     "name": "stdout",
     "output_type": "stream",
     "text": [
      "Squares dict: {0: 0, 1: 1, 2: 4, 3: 9, 4: 16}\n"
     ]
    }
   ],
   "source": [
    "# 16. Dictionary comprehension\n",
    "squares = {x: x**2 for x in range(5)}\n",
    "print(\"Squares dict:\", squares)"
   ]
  },
  {
   "cell_type": "markdown",
   "id": "29b26942",
   "metadata": {},
   "source": [
    "- Dictionary is mainly used to find frequency of any string, array, list, etc"
   ]
  },
  {
   "cell_type": "code",
   "execution_count": 24,
   "id": "d28bf0a9",
   "metadata": {},
   "outputs": [
    {
     "name": "stdout",
     "output_type": "stream",
     "text": [
      "{'a': 3, 'b': 2, 'd': 2, 'c': 1}\n"
     ]
    }
   ],
   "source": [
    "list1 = [\"a\",\"b\",\"d\",\"a\",\"c\",\"b\",\"a\",\"d\"]\n",
    "\n",
    "freq = {}\n",
    "\n",
    "for name in list1:\n",
    "    if name not in freq:\n",
    "        freq[name] = 1\n",
    "    else:\n",
    "        freq[name] +=1\n",
    "\n",
    "print(freq)"
   ]
  },
  {
   "cell_type": "code",
   "execution_count": 25,
   "id": "b5e218b6",
   "metadata": {},
   "outputs": [
    {
     "name": "stdout",
     "output_type": "stream",
     "text": [
      "{'h': 2, 'a': 2, 'p': 4, 'y': 2, ' ': 3, 'l': 1, 'i': 1, 'f': 1, 'e': 1, 'm': 1, 'o': 2, 'd': 1}\n"
     ]
    }
   ],
   "source": [
    "s = 'happy life happy mood'\n",
    "freq = {}\n",
    "\n",
    "for c in s:\n",
    "    if c not in freq:\n",
    "        freq[c] = 1\n",
    "    else:\n",
    "        freq[c] +=1\n",
    "\n",
    "print(freq)"
   ]
  },
  {
   "cell_type": "markdown",
   "id": "6c072193",
   "metadata": {},
   "source": [
    "# *HASHING*"
   ]
  },
  {
   "cell_type": "markdown",
   "id": "e2abc957",
   "metadata": {},
   "source": [
    "*Hashing is a technique used in a data structures that efficiently stores and retrieves data in a way that allows for quick access.*"
   ]
  },
  {
   "cell_type": "markdown",
   "id": "54fcf81a",
   "metadata": {},
   "source": [
    "- Hashing is the process of converting data (like strings, numbers, objects) into a fixed-size hash value (usually an integer).\n",
    "- It’s like giving every piece of data a unique fingerprint .\n",
    "- Used in dictionaries, sets, hashing algorithms, cryptography, password storage, etc."
   ]
  },
  {
   "cell_type": "code",
   "execution_count": null,
   "id": "0dcb576f",
   "metadata": {},
   "outputs": [],
   "source": []
  }
 ],
 "metadata": {
  "kernelspec": {
   "display_name": "Python 3",
   "language": "python",
   "name": "python3"
  },
  "language_info": {
   "codemirror_mode": {
    "name": "ipython",
    "version": 3
   },
   "file_extension": ".py",
   "mimetype": "text/x-python",
   "name": "python",
   "nbconvert_exporter": "python",
   "pygments_lexer": "ipython3",
   "version": "3.13.7"
  }
 },
 "nbformat": 4,
 "nbformat_minor": 5
}
